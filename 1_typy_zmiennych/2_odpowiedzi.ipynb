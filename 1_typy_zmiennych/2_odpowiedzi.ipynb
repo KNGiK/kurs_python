{
 "cells": [
  {
   "cell_type": "markdown",
   "id": "c04e1d61-4f59-494b-9f20-c6a5ad3a68c0",
   "metadata": {},
   "source": [
    "## Zadanie 1\n",
    "\n",
    "Utwórz dwie zmienne (x i y). Do pierwszej przypisz wartość 8 a do drugiej 10. Niech pierwsza będzie liczbą całkowitą, a druga liczbą z przecinkiem. Wyświetl wyniki."
   ]
  },
  {
   "cell_type": "code",
   "execution_count": null,
   "id": "02e0a148-4b22-482a-9f4a-f075bc303125",
   "metadata": {},
   "outputs": [],
   "source": [
    "# Sposób 1 \n",
    "x = 8\n",
    "y = 10.0\n",
    "print(x)\n",
    "print(y)\n",
    "\n",
    "# Sposób 2\n",
    "x, y = 8, 10.0\n",
    "print(x, y)\n",
    "\n",
    "# Sposób 3 z wykorzystaniem funkcji float\n",
    "x = 8\n",
    "y = float(10)\n",
    "print(x, y)"
   ]
  },
  {
   "cell_type": "markdown",
   "id": "80b1c257-238c-4eb7-bad0-e6e788406bd2",
   "metadata": {},
   "source": [
    "## Zadanie 2\n",
    "Utwórz dwie zmienne tekstowe. Pierwsza niech zawiera tekst `Koło Naukowe Geodezji i Kartografii PW`, a druga `Stowarzyszenie Studentów Wydziału Geodezji i Kartografii PW \"GEOIDA\"`. Wyświetl obie zmienne oddzielone przecinkiem.\n",
    "Wykorzystaj f-string'a."
   ]
  },
  {
   "cell_type": "code",
   "execution_count": null,
   "id": "399577a3-816f-48dc-8f6c-6971767598d2",
   "metadata": {},
   "outputs": [],
   "source": [
    "kngik = \"Koło Naukowe Geodezji i Kartografii PW\"\n",
    "geoida = 'Stowarzyszenie Studentów Wydziału Geodezji i Kartografii PW \"GEOIDA\"'\n",
    "\n",
    "print(f\"{geoida}, {kngik}\")"
   ]
  },
  {
   "cell_type": "markdown",
   "id": "28eb73ca-14d2-4f91-ac7f-be6f4ba62633",
   "metadata": {},
   "source": [
    "## Zadanie 3\n",
    "Utwórz zmienną i nadaj jej dowolną wartość logiczną, następnie wypisz jej wartość. Po wypisaniu zmień wartość na przeciwną i znowu wypisz"
   ]
  },
  {
   "cell_type": "code",
   "execution_count": null,
   "id": "79b6b4e4-ada3-43c8-9cd0-a1345749ff6c",
   "metadata": {},
   "outputs": [],
   "source": [
    "zmienna_logiczna = False\n",
    "print(zmienna_logiczna)"
   ]
  },
  {
   "cell_type": "markdown",
   "id": "a5e1e10b-be86-474b-b625-4d9352657581",
   "metadata": {},
   "source": [
    "## Zadanie 4\n",
    "Na wejściu otrzymujesz zmienną \"wejscie\". Utwórz nową zmienną i przypisz do niej wartość zmiennej \"wejscie\" ale po zamianie na typ zmiennoprzecinkowy. Wypisz wartość obu zmiennych (w jednej linii)."
   ]
  },
  {
   "cell_type": "code",
   "execution_count": null,
   "id": "f72d1a86-a18f-45cb-a736-2ac62279ee70",
   "metadata": {},
   "outputs": [],
   "source": [
    "wejscie = 2022\n",
    "\n",
    "wyjscie = float(wejscie)\n",
    "\n",
    "print(wejscie, wyjscie)"
   ]
  },
  {
   "cell_type": "markdown",
   "id": "19427200-3f2d-40f9-b454-b0b051fd03c7",
   "metadata": {},
   "source": [
    "## Zadanie 5 (fabularne)\n",
    "Podczas odczytu pliku tekstowego w pythonie wszystko jest odczytywane jako tekst. Kod poniżej będzie symulował odczyt linii po linii pliku. Zamień każdą wartość tekstową na liczbę zmiennoprzecinkową i wypisz je. Na wejściu otrzymujesz zmienną \"l\" z tekstem."
   ]
  },
  {
   "cell_type": "code",
   "execution_count": null,
   "id": "68a218f1-8104-4303-8f22-2bbcea50e22b",
   "metadata": {
    "tags": []
   },
   "outputs": [],
   "source": [
    "linie = [\"123.123\", \"12.345\", \"1.1\", \"10\"]\n",
    "for l in linie:\n",
    "    # Uzupełnij poniższą linię kodu\n",
    "    l_liczba = float(l)\n",
    "\n",
    "    print(l_liczba, type(l_liczba))"
   ]
  },
  {
   "cell_type": "markdown",
   "id": "4b5fe774-1669-4f37-8caf-4e6f814db348",
   "metadata": {},
   "source": [
    "## Zadanie 6\n",
    "Na wejściu otrzymujesz dwie zmienne (a i b) o zadanych wartościach. Używając jednej zmiennej dodatkowej zamień zmienne wartościami.\n",
    "Przykładowo: na starcie a = 10 i b = 20, na końcu a = 20 i b = 10"
   ]
  },
  {
   "cell_type": "code",
   "execution_count": null,
   "id": "707624e4-7111-46a3-9b0b-8c9f4c4b7caa",
   "metadata": {},
   "outputs": [],
   "source": [
    "a = 100\n",
    "b = -1.1\n",
    "print(\"Przed: a = \", a, \" b = \", b)\n",
    "\n",
    "c = b\n",
    "b = a\n",
    "a = c\n",
    "\n",
    "print(\"Po: a = \", a, \" b = \", b)"
   ]
  },
  {
   "cell_type": "markdown",
   "id": "29dcfe1a-9b14-4cd2-9acc-f2ff3c5c3c6d",
   "metadata": {},
   "source": [
    "## Zadanie 7\n",
    "Czym według Ciebie spowodowany jest poniższy błąd?\n",
    "```\n",
    "File \"<ipython-input-12-563084b3e606>\", line 1\n",
    "    if = 10\n",
    "       ^\n",
    "SyntaxError: invalid syntax\n",
    "```"
   ]
  },
  {
   "cell_type": "markdown",
   "id": "1fe9ff58-1088-4c3c-9ad4-19a300e231f7",
   "metadata": {},
   "source": [
    "### Odpowiedź\n",
    "Użytkownik próbował przypisać wartość do zmiennej o nazwie \"if\". Ta nazwa to słowo zarezerwowane i nie wolno uzywać go jako nazwy zmiennej."
   ]
  },
  {
   "cell_type": "markdown",
   "id": "77ee8913-bdd6-409b-84d6-042df135bb50",
   "metadata": {},
   "source": [
    "## Zadanie 8\n",
    "Jaki będzie wynik działania linii kodu zamiany tekstu \"1,100\" na typ float. Czy jej wykonanie się powiedzie? Jeżeli nie, to dlaczego?\n",
    "Możesz przetestować kod poniżej."
   ]
  },
  {
   "cell_type": "markdown",
   "id": "0e7fc6b6-837e-4bb7-87c1-bbbdad39e115",
   "metadata": {},
   "source": [
    "### Odpowiedź\n",
    "Wykonanie tej konwersji nie powiedzie się. Separatorem dziesiętnym dla liczb zmiennoprzecinkowych jest kropka, a nie przecinek."
   ]
  },
  {
   "cell_type": "code",
   "execution_count": null,
   "id": "288f47c8-0f2d-433b-94f5-72c50eb0411c",
   "metadata": {},
   "outputs": [],
   "source": [
    "x = \"1,100\"\n",
    "\n",
    "print(float(x))"
   ]
  }
 ],
 "metadata": {
  "kernelspec": {
   "display_name": "Python 3",
   "language": "python",
   "name": "python3"
  },
  "language_info": {
   "codemirror_mode": {
    "name": "ipython",
    "version": 3
   },
   "file_extension": ".py",
   "mimetype": "text/x-python",
   "name": "python",
   "nbconvert_exporter": "python",
   "pygments_lexer": "ipython3",
   "version": "3.8.8"
  }
 },
 "nbformat": 4,
 "nbformat_minor": 5
}
