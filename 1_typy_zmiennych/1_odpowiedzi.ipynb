{
 "cells": [
  {
   "cell_type": "markdown",
   "id": "138fc3e5-7426-45c6-ac6c-ddbb10677a59",
   "metadata": {},
   "source": [
    "# Ćwiczenia - Zmienne\n",
    "# Zestaw 1 - odpowiedzi"
   ]
  },
  {
   "cell_type": "markdown",
   "id": "06f7ac93-906b-40c6-bf06-32f4a9fe3e26",
   "metadata": {},
   "source": [
    "## Zadanie 1.\n",
    "Do zmiennej x przypisz wartość 100.00, a do zmiennej y wartość 150.00. Następnie wyświetl wyniki."
   ]
  },
  {
   "cell_type": "code",
   "execution_count": null,
   "id": "63381a4f-08b7-45dd-b352-3087e5ca0ece",
   "metadata": {},
   "outputs": [],
   "source": [
    "# Poniżej kilka rozwiązań zadania\n",
    "print('# 1')\n",
    "x = 100.00\n",
    "y = 150.00\n",
    "print(x)\n",
    "print(y)\n",
    "\n",
    "print('# 2')\n",
    "x, y = 100.00, 150.00\n",
    "print(x, y)\n",
    "\n",
    "print('# 3')\n",
    "x, y = 100.00, 150.00\n",
    "print(f'X: {x}, Y: {y}')"
   ]
  },
  {
   "cell_type": "markdown",
   "id": "2fe57ecd-488e-46a5-8a8f-8e426b673313",
   "metadata": {},
   "source": [
    "## Zadanie 2 \n",
    "Która z zaproponowanych nazw zmiennych jest zgodna z konwencją Pythona (więcej niż jedna odpowiedź):\n",
    "\n",
    "a) kolo_naukowe </br>\n",
    "b) koloNaukowe </br>\n",
    "c) 2022kolo_naukowe </br>\n",
    "d) _kngik </br>"
   ]
  },
  {
   "cell_type": "markdown",
   "id": "49960af6-1a3a-4535-82ad-495f04400988",
   "metadata": {},
   "source": [
    "### Odpowiedź"
   ]
  },
  {
   "cell_type": "markdown",
   "id": "de99829e-0edf-4184-9e6e-6c540d6e0530",
   "metadata": {},
   "source": [
    "Odpowiedź to: A oraz D. Obie nazwy są zgodne z konwencją Pythona. \n",
    "    \n",
    "Możemy również użyć nazwy zmiennej z odpowiedzi B, jednak jest to konwencja nazewnictwa przyjęta w Javie lub JavaScriptcie.\n",
    "\n",
    "Odpowiedź C wywoła błąd!"
   ]
  },
  {
   "cell_type": "markdown",
   "id": "85d6db01-1312-4ee8-90b7-df6c7b53b35f",
   "metadata": {},
   "source": [
    "## Zadanie 3 \n",
    "Za pomocą jakiej funkcji sprawdzimy typ zmiennej?\n",
    "\n",
    "   a) print() </br>\n",
    "   b) type() </br>\n",
    "   c) bool() </br>\n",
    "   d) types() </br>"
   ]
  },
  {
   "cell_type": "markdown",
   "id": "81022984-2ad3-4b64-bc7c-b9fefba56594",
   "metadata": {},
   "source": [
    "### Odpowiedź"
   ]
  },
  {
   "cell_type": "markdown",
   "id": "a26c9fa3-d6fd-40a3-9cc0-1b668ee9faf4",
   "metadata": {},
   "source": [
    "Odpowiedź to: B.\n",
    "\n",
    "print() pozwala wypisać napis, bool() zmienia typ zmiennej na logiczny, a metoda types() nie istnieje jako metoda wbudowana w Python"
   ]
  },
  {
   "cell_type": "code",
   "execution_count": 1,
   "id": "73a5f5e6-7ada-40f9-bbc8-59b2b40d56db",
   "metadata": {},
   "outputs": [
    {
     "name": "stdout",
     "output_type": "stream",
     "text": [
      "<class 'int'>\n"
     ]
    }
   ],
   "source": [
    "print(type(100))"
   ]
  },
  {
   "cell_type": "markdown",
   "id": "400c44d9-9d33-41af-81af-f12e63088204",
   "metadata": {},
   "source": [
    "## Zadanie 4 \n",
    "Do zmiennej fi, lam oraz h przypisz wartość 52.10, 21.05, 210.05 (spróbuj to zrobić w jednej linijce).\n",
    "Wypisz wartości zmiennych z wykorzystaniem funkcji print"
   ]
  },
  {
   "cell_type": "code",
   "execution_count": 2,
   "id": "986ba2f0-b2b8-4648-84b0-db13606c9382",
   "metadata": {},
   "outputs": [],
   "source": [
    "fi, lam, h = 52.10, 21.05, 210.05\n",
    "print(fi, lam, h)"
   ]
  },
  {
   "cell_type": "markdown",
   "id": "6958b748-1c40-4a17-ae48-a38328f163ed",
   "metadata": {},
   "source": [
    "## Zadanie 5\n",
    "Do zmiennej fi przypisz wartość 46.05, do zmiennej lam wartość 36.00. Następnie do wartości fi przypisza wartość zmiennej lam. Wyświetl wynik."
   ]
  },
  {
   "cell_type": "code",
   "execution_count": 6,
   "id": "ad62177d-d8f5-49ce-bb35-fad546ca3ebe",
   "metadata": {},
   "outputs": [
    {
     "name": "stdout",
     "output_type": "stream",
     "text": [
      "Fi: 36.0 Lambda: 36.0\n",
      "Fi: 36.0, Lambda: 36.0\n"
     ]
    }
   ],
   "source": [
    "fi, lam = 46.05, 36.00\n",
    "fi = lam\n",
    "print(\"Fi:\", fi, \"Lambda:\", lam)\n",
    "\n",
    "# Python pozwala również na takie rozwiązanie:\n",
    "fi, lam = lam, 36.00\n",
    "print(f\"Fi: {fi}, Lambda: {lam}\")"
   ]
  },
  {
   "cell_type": "markdown",
   "id": "7b629861-cedb-461d-ae62-670d9d615828",
   "metadata": {},
   "source": [
    "## Zadanie 6 \n",
    "Do zmiennej jednostka przypisz nazwę wybranej jednostki z wydziału GIK. Wyświetl wynik."
   ]
  },
  {
   "cell_type": "code",
   "execution_count": null,
   "id": "eb4e720b-4e49-4d18-bd98-28f90ba86f3a",
   "metadata": {},
   "outputs": [],
   "source": [
    "jednostka = 'KNGIK'\n",
    "print(jednostka)"
   ]
  },
  {
   "cell_type": "markdown",
   "id": "a0e6d8e1-ce09-49c1-97e9-f1c6c51666b9",
   "metadata": {},
   "source": [
    "## Zadanie 7 \n",
    "Utwórz zmienną \"kurs\" z wartością \"Python\", zmienną \"jednostka\" z wartością \"KNGiK\" oraz zmienną \"rok\" z wartością 2022. Następnie wyświetl następujący napis: \"Kurs Python z KNGiK 2022\". Użyj f-string'a."
   ]
  },
  {
   "cell_type": "code",
   "execution_count": null,
   "id": "d17ec688-d871-4975-a7cd-408240c42da4",
   "metadata": {},
   "outputs": [],
   "source": [
    "kurs = 'Python'\n",
    "jednostka = 'KNGiK'\n",
    "rok = 2022\n",
    "print(f\"Kurs {kurs} z {jednostka} {rok}\")"
   ]
  },
  {
   "cell_type": "markdown",
   "id": "309c2449-6834-4a4d-916a-2b67941bc365",
   "metadata": {},
   "source": [
    "## Zadanie 8. \n",
    "Określ jakim typem zmiennej jest zmienna `liczba = 120`. Napisz fragment kodu, którym sprawdzisz typ zmiennej."
   ]
  },
  {
   "cell_type": "markdown",
   "id": "393a7500-5296-442e-a160-19fae4cdd8c5",
   "metadata": {},
   "source": [
    "### Odpowiedź"
   ]
  },
  {
   "cell_type": "markdown",
   "id": "5a569c25-cb22-47c1-a644-a93a921196b8",
   "metadata": {},
   "source": [
    "Zmienna liczba jest typu całkowitoliczbowego - int."
   ]
  },
  {
   "cell_type": "code",
   "execution_count": 7,
   "id": "1a848518-107d-4a5d-a875-95740bf6e0c1",
   "metadata": {},
   "outputs": [
    {
     "name": "stdout",
     "output_type": "stream",
     "text": [
      "<class 'int'>\n"
     ]
    }
   ],
   "source": [
    "liczba = 120\n",
    "\n",
    "print(type(liczba))"
   ]
  },
  {
   "cell_type": "markdown",
   "id": "4df5a9cf-1df7-4eab-9c54-367e3d9796ff",
   "metadata": {},
   "source": [
    "## Zadanie 9 \n",
    "Określ jakim typem zmiennej jest wartość ```True```."
   ]
  },
  {
   "cell_type": "markdown",
   "id": "66b67fea-81f6-4cc2-bdf5-e72c88470b8b",
   "metadata": {},
   "source": [
    "### Odpowiedź"
   ]
  },
  {
   "cell_type": "markdown",
   "id": "0b24b762-e7d8-4881-b88a-f9e58a62b476",
   "metadata": {},
   "source": [
    "Zmienna będzie zmienną typu logicznego - bool"
   ]
  },
  {
   "cell_type": "markdown",
   "id": "e7426f98-e2c0-4605-9b9a-031a1f3f2892",
   "metadata": {},
   "source": [
    "## Zadanie 10\n",
    "Utwórz zmienną done = False. Zmień jej wartość na przeciwną i wyświetl wynik."
   ]
  },
  {
   "cell_type": "code",
   "execution_count": null,
   "id": "1d474216-540a-4e75-a0a1-3a6bb3a014ef",
   "metadata": {},
   "outputs": [],
   "source": [
    "done = False\n",
    "done = True\n",
    "print(done)"
   ]
  }
 ],
 "metadata": {
  "kernelspec": {
   "display_name": "Python 3",
   "language": "python",
   "name": "python3"
  },
  "language_info": {
   "codemirror_mode": {
    "name": "ipython",
    "version": 3
   },
   "file_extension": ".py",
   "mimetype": "text/x-python",
   "name": "python",
   "nbconvert_exporter": "python",
   "pygments_lexer": "ipython3",
   "version": "3.8.8"
  }
 },
 "nbformat": 4,
 "nbformat_minor": 5
}
