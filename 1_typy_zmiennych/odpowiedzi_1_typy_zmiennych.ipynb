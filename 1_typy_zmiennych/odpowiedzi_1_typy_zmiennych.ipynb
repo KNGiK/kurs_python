{
 "cells": [
  {
   "cell_type": "markdown",
   "id": "3a821e30",
   "metadata": {},
   "source": [
    "# Python z KNGiK"
   ]
  },
  {
   "cell_type": "markdown",
   "id": "74db9c06",
   "metadata": {},
   "source": [
    "# Ćwiczenia - typy danych i zmienne"
   ]
  },
  {
   "cell_type": "markdown",
   "id": "d09131ca",
   "metadata": {},
   "source": [
    "## 1. Do zmiennej x przypisz wartość 100.00, a do zmiennej y wartość 150.00. Następnie wyświetl wyniki."
   ]
  },
  {
   "cell_type": "code",
   "execution_count": null,
   "id": "26e24adf",
   "metadata": {
    "scrolled": false
   },
   "outputs": [],
   "source": [
    "# poniżej kilka rozwiązań zadania\n",
    "print('# 1')\n",
    "x = 100.00\n",
    "y = 150.00\n",
    "print(x)\n",
    "print(y)\n",
    "\n",
    "print('# 2')\n",
    "x, y = 100.00, 150.00\n",
    "print(x, y)\n",
    "\n",
    "print('# 3')\n",
    "x, y = 100.00, 150.00\n",
    "print(f'X: {x}, Y: {y}')"
   ]
  },
  {
   "cell_type": "markdown",
   "id": "85db0405",
   "metadata": {},
   "source": [
    "## 2. Która z zaproponowanych nazw zmiennych jest zgodna z konwencją Pythona (więcej niż jedna odpowiedź)\n",
    "## a) kolo_naukowe\n",
    "## b) koloNaukowe\n",
    "## c) 2022kolo_naukowe\n",
    "## d) _kngik"
   ]
  },
  {
   "cell_type": "code",
   "execution_count": null,
   "id": "f38e9ced",
   "metadata": {},
   "outputs": [],
   "source": [
    "# Odpowiedź to: A oraz D. Obie nazwy są zgodne z konwencją Pythona. Możemy również użyć nazwy zmiennej z odpowiedzi B,\n",
    "# jednak jest to konwencja nazewnictwa przyjęta w Javie lub JavaScriptcie.\n",
    "# Odpowiedź C wywoła błąd!"
   ]
  },
  {
   "cell_type": "markdown",
   "id": "eede46ce",
   "metadata": {},
   "source": [
    "## 3. Za pomocą jakiej funkcji sprawdzimy typ zmiennej?\n",
    "## a) print()\n",
    "## b) type()\n",
    "## c) format()\n",
    "## d) types()"
   ]
  },
  {
   "cell_type": "code",
   "execution_count": null,
   "id": "852d2d0f",
   "metadata": {},
   "outputs": [],
   "source": [
    "# Odpowiedź to: B.\n",
    "# Print() pozwala wypisać napis, format() formatuje stringi, a metoda types() nie istnieje jako metoda wbudowana w Python\n",
    "print(type(100))"
   ]
  },
  {
   "cell_type": "markdown",
   "id": "7f73aa48",
   "metadata": {},
   "source": [
    "## 4. Do zmiennej fi, l oraz H przypisz wartość 52.10, 21.05, 210.05 (spróbuj to zrobić w jednej linijce). Wypisz typy zmiennych."
   ]
  },
  {
   "cell_type": "code",
   "execution_count": null,
   "id": "2d484ff9",
   "metadata": {},
   "outputs": [],
   "source": [
    "fi, l, H = 52.10, 21.05, 210.05\n",
    "print(type(fi), type(l), type(H))"
   ]
  },
  {
   "cell_type": "markdown",
   "id": "d9b3da11",
   "metadata": {},
   "source": [
    "## 5. Do zmiennej fi przypisz wartość 46.05, do zmiennej l wartość 36.00. Następnie do wartości fi przypisza wartość zmiennej lambda. Wyświetl wynik."
   ]
  },
  {
   "cell_type": "code",
   "execution_count": null,
   "id": "a6804c51",
   "metadata": {},
   "outputs": [],
   "source": [
    "fi, l = 46.05, 36.00\n",
    "fi = l\n",
    "print(\"Fi: {}, Lambda: {}\".format(fi, l))\n",
    "\n",
    "# Python pozwala również na takie rozwiązanie:\n",
    "fi, l = l, 36.00\n",
    "print(\"Fi: {}, Lambda: {}\".format(fi, l))"
   ]
  },
  {
   "cell_type": "markdown",
   "id": "d9eb8744",
   "metadata": {},
   "source": [
    "## 6. Do zmiennej jednostka przypisz nazwę wybranej jednostki z wydziału GIK. Wyświetl wynik."
   ]
  },
  {
   "cell_type": "code",
   "execution_count": null,
   "id": "256c6029",
   "metadata": {},
   "outputs": [],
   "source": [
    "jednostka = 'KNGIK'\n",
    "print(jednostka)"
   ]
  },
  {
   "cell_type": "markdown",
   "id": "aa69f565",
   "metadata": {},
   "source": [
    "## 7. Utwórz zmienną kurs z wartością Python, zmienną jednostka z wartością KNGiK oraz zmienną rok z wartością 2022. Następnie wyświetl następujący napis: \"Kurs Python z KNGiK 2022\""
   ]
  },
  {
   "cell_type": "code",
   "execution_count": null,
   "id": "7a4574b1",
   "metadata": {},
   "outputs": [],
   "source": [
    "kurs = 'Python'\n",
    "jednostka = 'KNGiK'\n",
    "rok = 2022\n",
    "print(f\"Kurs {kurs} z {jednostka} {rok}\")"
   ]
  },
  {
   "cell_type": "markdown",
   "id": "5156b489",
   "metadata": {},
   "source": [
    "## 8. Określ jakim typem zmiennej jest liczba = 120."
   ]
  },
  {
   "cell_type": "code",
   "execution_count": null,
   "id": "a5112cc4",
   "metadata": {},
   "outputs": [],
   "source": [
    "# . na końcu liczby całkowitej określa liczbę dziesiętną, czyli jest to float\n",
    "print(type(120.))"
   ]
  },
  {
   "cell_type": "markdown",
   "id": "5ef4c3a0",
   "metadata": {},
   "source": [
    "## 9. Określ jakim typem zmiennej jest wartość True"
   ]
  },
  {
   "cell_type": "code",
   "execution_count": null,
   "id": "65c71cf3",
   "metadata": {},
   "outputs": [],
   "source": [
    "print(type(True))"
   ]
  },
  {
   "cell_type": "markdown",
   "id": "7ff02aee",
   "metadata": {},
   "source": [
    "## 10. Utwórz zmienną done = False. Zmień jej wartość na przeciwną i wyświetl wynik."
   ]
  },
  {
   "cell_type": "code",
   "execution_count": null,
   "id": "372cb67b",
   "metadata": {},
   "outputs": [],
   "source": [
    "# możemy skorzystać z operatora not lub przypisać nową wartość dla zmiennej.\n",
    "# zastosowanie operatora not nie zmieni wartości zmiennej\n",
    "print('# 1')\n",
    "done = False\n",
    "done = not done\n",
    "print(done)\n",
    "\n",
    "print('# 2')\n",
    "done = False\n",
    "done = True\n",
    "print(done)\n",
    "\n",
    "print('# 3')\n",
    "done = False\n",
    "print(not done)"
   ]
  }
 ],
 "metadata": {
  "kernelspec": {
   "display_name": "Python 3",
   "language": "python",
   "name": "python3"
  },
  "language_info": {
   "codemirror_mode": {
    "name": "ipython",
    "version": 3
   },
   "file_extension": ".py",
   "mimetype": "text/x-python",
   "name": "python",
   "nbconvert_exporter": "python",
   "pygments_lexer": "ipython3",
   "version": "3.8.8"
  }
 },
 "nbformat": 4,
 "nbformat_minor": 5
}
