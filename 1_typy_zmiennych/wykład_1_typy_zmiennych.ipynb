{
 "cells": [
  {
   "cell_type": "markdown",
   "id": "59c3c5cb",
   "metadata": {},
   "source": [
    "# Python z KNGiK"
   ]
  },
  {
   "cell_type": "markdown",
   "id": "fc75115a",
   "metadata": {},
   "source": [
    "# Typy danych i zmienne"
   ]
  },
  {
   "cell_type": "markdown",
   "id": "5b8d5407",
   "metadata": {},
   "source": [
    "## Typy liczbowe - int (liczby całkowite - integer) i float (liczby dziesiętne)"
   ]
  },
  {
   "cell_type": "code",
   "execution_count": null,
   "id": "e8210d20",
   "metadata": {},
   "outputs": [],
   "source": [
    "# Definicja zmiennych wraz z przypisaniem konkretnych wartości\n",
    "integer_number = 100\n",
    "float_number = 100.005\n",
    "\n",
    "# Komenda print(nazwa_zmiennej) pozwala na wypisanie zawartości zmiennej\n",
    "print(integer_number)\n",
    "print(float_number)"
   ]
  },
  {
   "cell_type": "code",
   "execution_count": null,
   "id": "4a3716f8",
   "metadata": {},
   "outputs": [],
   "source": [
    "# Możemy wypisać wartości bez zapisywania ich w zmiennych, które służą do przechowywania pewnych informacji\n",
    "print(100)\n",
    "print(100.005)"
   ]
  },
  {
   "cell_type": "code",
   "execution_count": null,
   "id": "31661817",
   "metadata": {},
   "outputs": [],
   "source": [
    "# Konwencja nazewnictwa zmiennych\n",
    "_kngik = 2022\n",
    "KnGiK = 2022\n",
    "KNGIK123456 = 2022\n",
    "kolo_naukowe = 2022\n",
    "print(_kngik)\n",
    "\n",
    "# Te nazwy wywołają błedy, nie można zaczynać nazw zmiennych od liczb czy też np. '?'\n",
    "123KNGIK = 2021\n",
    "?KNGIK = 2021\n",
    "print(123KNGIK)"
   ]
  },
  {
   "cell_type": "code",
   "execution_count": null,
   "id": "a4f519a9",
   "metadata": {},
   "outputs": [],
   "source": [
    "# W Pythonie przyjęto, że nazwy zmiennych powinno się zapisywać w konwencji nazwa_zmiennej, ale to tylko konwencja\n",
    "# warto aby zmienne były czytelne i zawierały informację o przechowywanych danych\n",
    "sz = 20\n",
    "szerokosc_geograficzna_w_stopniach = 20\n",
    "szer_geo_st = 20"
   ]
  },
  {
   "cell_type": "code",
   "execution_count": null,
   "id": "4d712f63",
   "metadata": {},
   "outputs": [],
   "source": [
    "x = 250.00\n",
    "y = 200\n",
    "\n",
    "# Typ zmiennej możemy sprawdzić za pomocą funkcji type()\n",
    "print(type(x))\n",
    "print(type(y))\n",
    "print(type(200.00))\n",
    "print(type(200.))\n",
    "print(type(10))"
   ]
  },
  {
   "cell_type": "code",
   "execution_count": null,
   "id": "b3c683ff",
   "metadata": {},
   "outputs": [],
   "source": [
    "x = 250.00\n",
    "y = 200\n",
    "\n",
    "# Zmienne to miejsca, które przechowują informację, zatem tak jak w matematyce do tej samej zmiennej możemy wpisać inne zmienne\n",
    "print(x)\n",
    "x = y # Przypianie do x wartości z y\n",
    "print(x)\n",
    "print(y)"
   ]
  },
  {
   "cell_type": "code",
   "execution_count": null,
   "id": "d6fc791a",
   "metadata": {},
   "outputs": [],
   "source": [
    "# Możemy również definiować zmienne jako tzw. wieloprzypisanie\n",
    "x = y = z = 100\n",
    "print(x)\n",
    "print(y)\n",
    "print(z)"
   ]
  },
  {
   "cell_type": "code",
   "execution_count": null,
   "id": "fca17a17",
   "metadata": {},
   "outputs": [],
   "source": [
    "# Możliwe jest również przypisanie różnych wartości do kilku zmiennych w jednej linijce\n",
    "szer_geo, dl_geo = 52, 21\n",
    "print(szer_geo, dl_geo) # w funkcji print() możemy przekazać kilka wartości oddzielając je przecinkiem"
   ]
  },
  {
   "cell_type": "markdown",
   "id": "c06cd0ce",
   "metadata": {},
   "source": [
    "## Typ string - tekstowy"
   ]
  },
  {
   "cell_type": "code",
   "execution_count": null,
   "id": "e4bd28ae",
   "metadata": {},
   "outputs": [],
   "source": [
    "# Możemy zapisywać w '' lub \"\"\n",
    "najlepsze_koło = 'KNGIK'\n",
    "najlepsze_koło2 = \"KNGIK\"\n",
    "print(najlepsze_koło)"
   ]
  },
  {
   "cell_type": "code",
   "execution_count": null,
   "id": "2ec2037f",
   "metadata": {},
   "outputs": [],
   "source": [
    "# Należy jednak wykorzystać ten sam '' lub \"\" jako początek i koniec stringu\n",
    "print('poprawny \"zapis\"')\n",
    "print(\"poprawny 'zapis'\")"
   ]
  },
  {
   "cell_type": "code",
   "execution_count": null,
   "id": "b1ab38ed",
   "metadata": {},
   "outputs": [],
   "source": [
    "print('niepoprawny zapis\") # błąd!"
   ]
  },
  {
   "cell_type": "code",
   "execution_count": null,
   "id": "567ba425",
   "metadata": {},
   "outputs": [],
   "source": [
    "# Jako string możemy zapisywać, również liczby\n",
    "number = '10'\n",
    "print(type(number))\n",
    "wynik = \"10 + 5 = 15\"\n",
    "print(wynik)"
   ]
  },
  {
   "cell_type": "code",
   "execution_count": null,
   "id": "985f47c1",
   "metadata": {},
   "outputs": [],
   "source": [
    "GPS = 'GPS'\n",
    "gps = 'gps'\n",
    "\n",
    "a = 10\n",
    "A = 12\n",
    "\n",
    "# Mimo, że w zmiennych są te same słowa, jednak Python jest case sensitvie (wrażliwy na małe i duże litery; \n",
    "# w stringach i w nazwach zmiennych)\n",
    "print(GPS == gps) # == oznacza porównanie ze sobą dwóch wartości, które zwróci wynik kolejnego typu boolean(True albo False)\n",
    "print(a == A)"
   ]
  },
  {
   "cell_type": "markdown",
   "id": "1b3e3058",
   "metadata": {},
   "source": [
    "## Typ boolean - prawda lub fałsz"
   ]
  },
  {
   "cell_type": "code",
   "execution_count": null,
   "id": "4be14651",
   "metadata": {},
   "outputs": [],
   "source": [
    "is_active = False\n",
    "\n",
    "print(type(is_active))\n",
    "print(is_active)"
   ]
  },
  {
   "cell_type": "code",
   "execution_count": null,
   "id": "2a34bf9b",
   "metadata": {},
   "outputs": [],
   "source": [
    "# Poprzez porównanie możemy sprawdzić czy zmienna spełnia warunek logiczny\n",
    "print(is_active == True)\n",
    "# Kolejny sposób porównywania warunku logicznego\n",
    "print(is_active is False)"
   ]
  },
  {
   "cell_type": "code",
   "execution_count": null,
   "id": "d59ddccb",
   "metadata": {},
   "outputs": [],
   "source": [
    "number = 4\n",
    "print(number is 4)"
   ]
  },
  {
   "cell_type": "markdown",
   "id": "0b2d60af",
   "metadata": {},
   "source": [
    "## Operator not"
   ]
  },
  {
   "cell_type": "code",
   "execution_count": 3,
   "id": "0bedbcd9",
   "metadata": {},
   "outputs": [
    {
     "name": "stdout",
     "output_type": "stream",
     "text": [
      "False\n",
      "True\n"
     ]
    }
   ],
   "source": [
    "# Aby zmienić wartość logiczną możemy również użyć operatora not.\n",
    "# not True = False\n",
    "# not False = True\n",
    "print(not True)\n",
    "print(not False)"
   ]
  },
  {
   "cell_type": "markdown",
   "id": "f1beacf8",
   "metadata": {},
   "source": [
    "## Sposoby wypisywania wartości przy pomocy print()"
   ]
  },
  {
   "cell_type": "markdown",
   "id": "ca71c972",
   "metadata": {},
   "source": [
    "## print(f'')"
   ]
  },
  {
   "cell_type": "code",
   "execution_count": null,
   "id": "1a89a99e",
   "metadata": {},
   "outputs": [],
   "source": [
    "# f'' oznacza możliwość przekazania do stringa w specjalnych {} nawiasach nazw zmiennych, \n",
    "# funkcja dynamicznie zwraca ich wartości do napisu"
   ]
  },
  {
   "cell_type": "code",
   "execution_count": 7,
   "id": "f601d12a",
   "metadata": {},
   "outputs": [
    {
     "name": "stdout",
     "output_type": "stream",
     "text": [
      "Współrzędna X: 100.0, Współrzędna Y: 100.0\n"
     ]
    }
   ],
   "source": [
    "# uzyskane wyniki i zmienne możemy wypisywać w konsoli w bardziej zrozmiały sposób\n",
    "x = y = 100.00\n",
    "print(f'Współrzędna X: {x}, Współrzędna Y: {y}')"
   ]
  },
  {
   "cell_type": "markdown",
   "id": "ce85fc98",
   "metadata": {},
   "source": [
    "## print().format()"
   ]
  },
  {
   "cell_type": "code",
   "execution_count": null,
   "id": "40990a7f",
   "metadata": {},
   "outputs": [],
   "source": [
    "# Przy pomocy metody format możemy dowolnie formatować stringa. Metoda format przyjmuje parametry jako kolejne napisy, \n",
    "# jakie chcemy wstawić w miejsca {}. Jeśli chcemy wstawić je w dowolnej kolejności możemy w {} określić nazwy parametrów,\n",
    "# jakie chcemy tam wpisać, a następnie do nich przypisać odpowiednie zmienne"
   ]
  },
  {
   "cell_type": "code",
   "execution_count": 9,
   "id": "e56ad130",
   "metadata": {},
   "outputs": [
    {
     "name": "stdout",
     "output_type": "stream",
     "text": [
      "KNGIK oraz Geoida to jednostki, które zostały utworzone na wydziale Geodezji i Kartografii\n"
     ]
    }
   ],
   "source": [
    "jednostka1 = 'KNGIK'\n",
    "jednostka2 = 'Geoida'\n",
    "wydzial = 'Geodezji i Kartografii'\n",
    "\n",
    "print('{} oraz {} to jednostki, które zostały utworzone na wydziale {}'.format(jednostka1, jednostka2, wydzial))"
   ]
  },
  {
   "cell_type": "code",
   "execution_count": 10,
   "id": "7bf9e69f",
   "metadata": {},
   "outputs": [
    {
     "name": "stdout",
     "output_type": "stream",
     "text": [
      "Koło Naukowe Geodezji i Kartografii oraz Stowarzyszenie Studentów Geodezji i Kartografii Geoida to jednostki, które zostały utworzone na wydziale Geodezji i Kartografii\n"
     ]
    }
   ],
   "source": [
    "jednostka1 = 'Koło Naukowe Geodezji i Kartografii'\n",
    "jednostka2 = 'Stowarzyszenie Studentów Geodezji i Kartografii Geoida'\n",
    "\n",
    "print('{kngik} oraz {geoida} to jednostki, które zostały utworzone na wydziale {gik}'.format(kngik=jednostka1, geoida=jednostka2, gik=wydzial))"
   ]
  }
 ],
 "metadata": {
  "kernelspec": {
   "display_name": "Python 3",
   "language": "python",
   "name": "python3"
  },
  "language_info": {
   "codemirror_mode": {
    "name": "ipython",
    "version": 3
   },
   "file_extension": ".py",
   "mimetype": "text/x-python",
   "name": "python",
   "nbconvert_exporter": "python",
   "pygments_lexer": "ipython3",
   "version": "3.8.8"
  }
 },
 "nbformat": 4,
 "nbformat_minor": 5
}
