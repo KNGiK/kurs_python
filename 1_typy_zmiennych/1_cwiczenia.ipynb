{
 "cells": [
  {
   "cell_type": "markdown",
   "id": "74db9c06",
   "metadata": {},
   "source": [
    "# Ćwiczenia - Zmienne\n",
    "# Zestaw 1"
   ]
  },
  {
   "cell_type": "markdown",
   "id": "d09131ca",
   "metadata": {},
   "source": [
    "## Zadanie 1.\n",
    "Do zmiennej x przypisz wartość 100.00, a do zmiennej y wartość 150.00. Następnie wyświetl wyniki."
   ]
  },
  {
   "cell_type": "code",
   "execution_count": null,
   "id": "cdaccac8-3f8c-414c-a38e-29e1ba1d9e39",
   "metadata": {},
   "outputs": [],
   "source": [
    "# Tu umieść swój kod\n"
   ]
  },
  {
   "cell_type": "markdown",
   "id": "85db0405",
   "metadata": {},
   "source": [
    "## Zadanie 2 \n",
    "Która z zaproponowanych nazw zmiennych jest zgodna z konwencją Pythona (więcej niż jedna odpowiedź):\n",
    "\n",
    "a) kolo_naukowe </br>\n",
    "b) koloNaukowe </br>\n",
    "c) 2022kolo_naukowe </br>\n",
    "d) _kngik </br>"
   ]
  },
  {
   "cell_type": "markdown",
   "id": "6340fe14-ab85-4d8c-910d-5d23ffca7e7c",
   "metadata": {},
   "source": [
    "## Zadanie 3 \n",
    "Za pomocą jakiej funkcji sprawdzimy typ zmiennej?\n",
    "\n",
    "   a) print() </br>\n",
    "   b) type() </br>\n",
    "   c) bool() </br>\n",
    "   d) types() </br>"
   ]
  },
  {
   "cell_type": "markdown",
   "id": "34d983f3-0108-496b-9a31-0a3112ff8290",
   "metadata": {},
   "source": [
    "## Zadanie 4 \n",
    "Do zmiennej fi, lam oraz h przypisz wartość 52.10, 21.05, 210.05 (spróbuj to zrobić w jednej linijce).\n",
    "Wypisz wartości zmiennych z wykorzystaniem funkcji print"
   ]
  },
  {
   "cell_type": "code",
   "execution_count": null,
   "id": "622a6378-51b0-42b4-952c-e449bebfc622",
   "metadata": {},
   "outputs": [],
   "source": [
    "# Tu umieść swój kod\n"
   ]
  },
  {
   "cell_type": "markdown",
   "id": "d9b3da11",
   "metadata": {},
   "source": [
    "## Zadanie 5\n",
    "Do zmiennej fi przypisz wartość 46.05, do zmiennej lam wartość 36.00. Następnie do wartości fi przypisza wartość zmiennej lam. Wyświetl wynik."
   ]
  },
  {
   "cell_type": "code",
   "execution_count": null,
   "id": "7bd40f06-ba67-4bac-abf4-584757e4e823",
   "metadata": {},
   "outputs": [],
   "source": [
    "# Tu umieść swój kod\n"
   ]
  },
  {
   "cell_type": "markdown",
   "id": "d9eb8744",
   "metadata": {},
   "source": [
    "## Zadanie 6 \n",
    "Do zmiennej jednostka przypisz nazwę wybranej jednostki z wydziału GIK. Wyświetl wynik."
   ]
  },
  {
   "cell_type": "code",
   "execution_count": null,
   "id": "4672ab4d-706a-4c48-9010-c90cc4829114",
   "metadata": {},
   "outputs": [],
   "source": [
    "# Tu umieść swój kod\n"
   ]
  },
  {
   "cell_type": "markdown",
   "id": "aa69f565",
   "metadata": {},
   "source": [
    "## Zadanie 7 \n",
    "Utwórz zmienną kurs z wartością Python, zmienną jednostka z wartością KNGiK oraz zmienną rok z wartością 2022. Następnie wyświetl następujący napis: \"Kurs Python z KNGiK 2022\". Użyj f-string'a."
   ]
  },
  {
   "cell_type": "code",
   "execution_count": null,
   "id": "613f14df-9a9f-4f6a-adc6-c60627938b43",
   "metadata": {},
   "outputs": [],
   "source": [
    "# Tu umieść swój kod\n"
   ]
  },
  {
   "cell_type": "markdown",
   "id": "5156b489",
   "metadata": {},
   "source": [
    "## Zadanie 8. \n",
    "Określ jakim typem zmiennej jest zmienna `liczba = 120`. Napisz fragment kodu, którym sprawdzisz typ zmiennej."
   ]
  },
  {
   "cell_type": "code",
   "execution_count": null,
   "id": "fd0fa349-8bab-4f7a-93ea-26ef9c329699",
   "metadata": {},
   "outputs": [],
   "source": [
    "liczba = 120\n",
    "# Tu umieść swój kod\n"
   ]
  },
  {
   "cell_type": "markdown",
   "id": "5ef4c3a0",
   "metadata": {},
   "source": [
    "## Zadanie 9 \n",
    "Określ jakim typem zmiennej jest wartość ```True```."
   ]
  },
  {
   "cell_type": "markdown",
   "id": "7ff02aee",
   "metadata": {},
   "source": [
    "## Zadanie 10\n",
    "Utwórz zmienną done = False. Zmień jej wartość na przeciwną i wyświetl wynik."
   ]
  },
  {
   "cell_type": "code",
   "execution_count": null,
   "id": "8f6df8fd-95e8-4b23-b3c0-5c4455ddb320",
   "metadata": {},
   "outputs": [],
   "source": [
    "# Tu umieść swój kod\n"
   ]
  }
 ],
 "metadata": {
  "kernelspec": {
   "display_name": "Python 3",
   "language": "python",
   "name": "python3"
  },
  "language_info": {
   "codemirror_mode": {
    "name": "ipython",
    "version": 3
   },
   "file_extension": ".py",
   "mimetype": "text/x-python",
   "name": "python",
   "nbconvert_exporter": "python",
   "pygments_lexer": "ipython3",
   "version": "3.8.8"
  }
 },
 "nbformat": 4,
 "nbformat_minor": 5
}
