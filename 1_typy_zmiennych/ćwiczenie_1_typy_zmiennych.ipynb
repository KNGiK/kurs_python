{
 "cells": [
  {
   "cell_type": "markdown",
   "id": "3a821e30",
   "metadata": {},
   "source": [
    "# Python z KNGiK"
   ]
  },
  {
   "cell_type": "markdown",
   "id": "74db9c06",
   "metadata": {},
   "source": [
    "# Ćwiczenia - typy danych i zmienne"
   ]
  },
  {
   "cell_type": "markdown",
   "id": "d09131ca",
   "metadata": {},
   "source": [
    "## 1. Do zmiennej x przypisz wartość 100.00, a do zmiennej y wartość 150.00. Następnie wyświetl wyniki."
   ]
  },
  {
   "cell_type": "markdown",
   "id": "85db0405",
   "metadata": {},
   "source": [
    "## 2. Która z zaproponowanych nazw zmiennych jest zgodna z konwencją Pythona (więcej niż jedna odpowiedź)\n",
    "## a) kolo_naukowe\n",
    "## b) koloNaukowe\n",
    "## c) 2022kolo_naukowe\n",
    "## d) _kngik"
   ]
  },
  {
   "cell_type": "markdown",
   "id": "eede46ce",
   "metadata": {},
   "source": [
    "## 3. Za pomocą jakiej funkcji sprawdzimy typ zmiennej?\n",
    "## a) print()\n",
    "## b) type()\n",
    "## c) format()\n",
    "## d) types()"
   ]
  },
  {
   "cell_type": "markdown",
   "id": "7f73aa48",
   "metadata": {},
   "source": [
    "## 4. Do zmiennej fi, lambda oraz H przypisz wartość 52.10, 21.05, 210.05 (spróbuj to zrobić w jednej linijce)"
   ]
  },
  {
   "cell_type": "markdown",
   "id": "d9b3da11",
   "metadata": {},
   "source": [
    "## 5. Do zmiennej fi przypisz wartość 46.05, do zmiennej lambda wartość 36.00. Następnie do wartości fi przypisza wartość zmiennej lambda. Wyświetl wynik."
   ]
  },
  {
   "cell_type": "markdown",
   "id": "d9eb8744",
   "metadata": {},
   "source": [
    "## 6. Do zmiennej jednostka przypisz nazwę wybranej jednostki z wydziału GIK. Wyświetl wynik."
   ]
  },
  {
   "cell_type": "markdown",
   "id": "aa69f565",
   "metadata": {},
   "source": [
    "## 7. Utwórz zmienną kurs z wartością Python, zmienną jednostka z wartością KNGiK oraz zmienną rok z wartością 2022. Następnie wyświetl następujący napis: \"Kurs Python z KNGiK 2022\""
   ]
  },
  {
   "cell_type": "markdown",
   "id": "5156b489",
   "metadata": {},
   "source": [
    "## 8. Określ jakim typem zmiennej jest liczba = 120."
   ]
  },
  {
   "cell_type": "markdown",
   "id": "5ef4c3a0",
   "metadata": {},
   "source": [
    "## 9. Określ jakim typem zmiennej jest wartość True"
   ]
  },
  {
   "cell_type": "markdown",
   "id": "7ff02aee",
   "metadata": {},
   "source": [
    "## 10. Utwórz zmienną done = False. Zmień jej wartość na przeciwną i wyświetl wynik."
   ]
  }
 ],
 "metadata": {
  "kernelspec": {
   "display_name": "Python 3",
   "language": "python",
   "name": "python3"
  },
  "language_info": {
   "codemirror_mode": {
    "name": "ipython",
    "version": 3
   },
   "file_extension": ".py",
   "mimetype": "text/x-python",
   "name": "python",
   "nbconvert_exporter": "python",
   "pygments_lexer": "ipython3",
   "version": "3.8.8"
  }
 },
 "nbformat": 4,
 "nbformat_minor": 5
}
