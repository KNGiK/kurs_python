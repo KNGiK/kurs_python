{
 "cells": [
  {
   "cell_type": "markdown",
   "metadata": {
    "id": "_H73bMxIsBX5"
   },
   "source": [
    "# Zmienne\n",
    "Zanim zaczniemy zabawę z pythonem musimy zapoznać się z kilkoma ważnymi rzeczami. Programowanie nie może istnieć bez jednej z nich: __zmiennych__. \n",
    "\n",
    "Jak to zwykle bywa najciężej jest opisać najprostsze pojęcia 😋 Zmienna ma wiele mądrych definicji, ale jako że staramy się wszystko utrzymać w jak najprzyjaźniejszej formie postaramy się wytłumaczyć to przyjaźnie i bez sztywnych definicji, a raczej w formie opowieści 😏 \n",
    "\n",
    "Pisząc kod naszego programu zakładamy, że będzie przeprowadzany pewny ciąg operacji. Na początku programu pewnie będzie trzeba będzie wprowadzić jakieś wartości startowe, na podstawie nich będą wyznaczane wyniki pośrednie, a na końcu dostaniemy jakiś wynik. Każda z tych wartości będzie dla nas w jakiś sposób ważna i chcemy \"pilnować\" jej wartości. Do tego właśnie służy zmienna! Zmienna to pewien coś służacy do przechowywania jakiejś wartości o pewnej ważnej właściwości - ma swoją unikatową nazwę, którą nadaje mu użytkownik."
   ]
  },
  {
   "cell_type": "markdown",
   "metadata": {
    "id": "nEPoxo1WWOGX"
   },
   "source": [
    "## Nazwy zmiennych\n",
    "Na początek skupmy się właśnie na tej nazwie. Wiemy już, że pisząć program w pythonie będziemy tworzyć zmienne i je nazywać. Jak możemy nazywać zmienne? Co do zasady jak tylko nam się podoba, ale zmienna nie może łamać kilku zasad:\n",
    "\n",
    "\n",
    "*   Nazwa nie może zaczynać się od cyfry, wykrzyknika, kropki i paru innych znaków... (czyli np. nie wolno zrobić zmiennej \"1zmienna\", \".x\"). Rada z doświadczenia: ogólnie używanie w informatyce innych symboli specjalnych niż podłoga (_) w nazwach czegokolwiek to zły pomysł i staramy się tego unikać 😀\n",
    "*   Nazwa nie może być jednym ze słów zarezerwowanych (np. \"if\", \"for\", \"lambda\") - słów jest 33 i można je sobie obejrzeć tutaj: [LINK](https://realpython.com/lessons/reserved-keywords/)\n",
    "\n",
    "Z tym wstępem spróbujmy stworzyć kilka zmiennych 👊"
   ]
  },
  {
   "cell_type": "code",
   "execution_count": null,
   "metadata": {
    "colab": {
     "base_uri": "https://localhost:8080/"
    },
    "id": "7mJyR_zf0l_G",
    "outputId": "ae17224a-33a2-4f08-a7a7-d1293df68335"
   },
   "outputs": [],
   "source": [
    "moja_zmienna = 0\n",
    "print(moja_zmienna)"
   ]
  },
  {
   "cell_type": "code",
   "execution_count": null,
   "metadata": {
    "colab": {
     "base_uri": "https://localhost:8080/"
    },
    "id": "q8DUO6_E0q19",
    "outputId": "3e66ea8b-466a-476b-f373-5c32f3cee9d3"
   },
   "outputs": [],
   "source": [
    "drugaZmienna = 2\n",
    "print(drugaZmienna)"
   ]
  },
  {
   "cell_type": "code",
   "execution_count": null,
   "metadata": {
    "colab": {
     "base_uri": "https://localhost:8080/"
    },
    "id": "pUZe0XXaHNHr",
    "outputId": "821d8ed9-c67c-413b-909f-3f2f2f7bfdcb"
   },
   "outputs": [],
   "source": [
    "# Uwaga: python rozróżnia wielkość liter!\n",
    "x = 1\n",
    "X = 2\n",
    "print(x, X)"
   ]
  },
  {
   "cell_type": "code",
   "execution_count": null,
   "metadata": {
    "id": "WdiWBlbu046D"
   },
   "outputs": [],
   "source": [
    "# A tu przykłady co się dzieje jak złamiemy te zasady\n",
    ".zla_zmienna = 3"
   ]
  },
  {
   "cell_type": "code",
   "execution_count": null,
   "metadata": {
    "id": "VLRntsPfFQKC"
   },
   "outputs": [],
   "source": [
    "# I kolejny\n",
    "if = 3"
   ]
  },
  {
   "cell_type": "markdown",
   "metadata": {
    "id": "qwKASy0eHAX5"
   },
   "source": [
    "Co do zasad, to by było na tyle. Zasady to jednak tylko zasady, ważne są też przyjęte konwencje. W każdym języku programowania przyjmuje się jakieś standardy nazywania zmiennych - np. jak zapisujemy zmienne wielowyrazowe (w pythonie zmienne nazywamy z wykorzystaniem małych liter oddzielonych podłogą np. \"zmienna_o_dlugiej_nazwie\"). Podobnie jak wszędzie tak i w pythonie przyjęto pewne \"dobre praktyki\" w dziedzienie stylu pisania. Tak jak wspomnieliśmy, nie są to jednak sztywne zasady, ale raczej sugestie które warto stosować, żeby ułatwić innym czytanie naszego kodu 😉 Rada praktyczna: Google - jeżeli nie wiecie np. jak najlepiej nazywać zmienne, pliki, cokolwiek to szukamy odpowiedzi w internecie. Jeszcze nigdy nie trafiłem na to żeby ktoś się nie wypowiedział w temacie stylu pisania."
   ]
  },
  {
   "cell_type": "markdown",
   "metadata": {
    "id": "pmQZDLuzFgzH"
   },
   "source": [
    "## Typy zmiennych\n",
    "Skoro wiemy już jak nazywać zmienne teraz możemy przejść do drugiej części - nadawania jej wartości. To też będzie dłuższa opowieść...\n",
    "\n",
    "Jak już wspomnieliśmy każda zmienna może przechowywać jakieś dane. Mogą to być liczby, teksty i wiele wiele więcej. Określenie które mówi nam \"Czym\" jest dana wartość to tak zwany __typ danych__. Ogólnie komputer przechowuje gdzieś w pamięci wartości zmiennych jako piękne zera i jedynki. Żeby robić coś z ich wykorzystaniem musi wiedzieć jak te zera i jedynki zinterpretować (np. czy to co właśnie wczytuje to litera, liczba itd.). Typ danych to formalne określenie tej \"wiedzy\". A teraz po ludzku 😀\n",
    "\n",
    "Przypisując wartość do zmiennej zawsze jest ona jakiegoś typu. W powyższych przykładach do każdej zmiennej przypisywaliśmy wartości całkowitoliczbowe. Takie liczby to jeden z typów danych - __int__ (ang. integer). Liczby całkowite będą doskonałe na początek. Każdy je zna i lubi 😀 Zobaczmy przykłady tworzenia zmiennych tego typu:"
   ]
  },
  {
   "cell_type": "code",
   "execution_count": null,
   "metadata": {
    "id": "QHuarPnSJuq3"
   },
   "outputs": [],
   "source": [
    "zmienna_typu_int = 1\n",
    "ujemna_zmienna = -1\n",
    "duza_zmienna = 202022020"
   ]
  },
  {
   "cell_type": "markdown",
   "metadata": {
    "id": "Qa8GWvm2KEoC"
   },
   "source": [
    "Jak pewnie pamiętacie z matematyki niestety świat nie kończy się na nich. Chcemy też często korzystać z liczb z \"przecinkiem\". Oczywiście mamy też taką możliwość - do tego służy typ __float__ (ang. floating-point, czyli typ zmiennoprzecinkowy). Zmienne typu float mogą przechowywać zarówno wartości dodatnie jak i ujemne, ale mogą to być też ułamki: "
   ]
  },
  {
   "cell_type": "code",
   "execution_count": null,
   "metadata": {
    "id": "yP3vsLAHKDDX"
   },
   "outputs": [],
   "source": [
    "# UWAGA: SEPARATOREM DZIESIĘTNYM JEST KROPKA!\n",
    "zmienna_typu_float = 1.5\n",
    "polowka = 0.5\n",
    "duzy_float = 100000.000001\n",
    "ujemny_float = -1010102020.202031"
   ]
  },
  {
   "cell_type": "markdown",
   "metadata": {
    "id": "8FMN_sdkLEPH"
   },
   "source": [
    "No dobrze, liczby i liczby. 1, 2, 3.5 wszystko fajnie, a co jak chce przechowywać tekst? Proszę bardzo - __str__ (ang. string, bo tekst w informatyce często nazywany jest ciągiem znaków). Może na start mały przykład:"
   ]
  },
  {
   "cell_type": "code",
   "execution_count": null,
   "metadata": {
    "id": "zHMEtBwfN1PS"
   },
   "outputs": [],
   "source": [
    "zmienna_string = \"Tekst\"\n",
    "inny_string = 'Uczę się pythona'\n",
    "smieszna_zmienna = \"1\""
   ]
  },
  {
   "cell_type": "markdown",
   "metadata": {
    "id": "V5w6LQz9N0Ge"
   },
   "source": [
    "Tak właśnie tworzymy zmienne typu tekstowego, tzw. stringi. Tekst który chcemy zapisać musimy wziąć w apostrofy lub cudzysłowy. Tutaj zaczynają się jednak drobne pułapki, o których warto powiedzieć.\n",
    "\n",
    "Pułapka pierwsza: Cudzysłowy i apostrofy zawsze muszą chodzić parami. Jeżeli zaczynamy tekst od apostrofu, to musimy go też skończyć apostrofem. W tym przypadku najważniejszy jest zawsze najbardziej zewnętrzny typ znaczka od tekstu. Przykładowo:"
   ]
  },
  {
   "cell_type": "code",
   "execution_count": null,
   "metadata": {
    "colab": {
     "base_uri": "https://localhost:8080/",
     "height": 135
    },
    "id": "LVW9pwiCQFOO",
    "outputId": "e8c1b142-d095-438a-c8e6-fc725bcebf12"
   },
   "outputs": [],
   "source": [
    "# Przykład co się dzieje gdy nie domkniemy dobrze tekstu\n",
    "zla_zmienna_tekstowa = \"Nie ten znaczek'"
   ]
  },
  {
   "cell_type": "code",
   "execution_count": null,
   "metadata": {
    "colab": {
     "base_uri": "https://localhost:8080/"
    },
    "id": "r7IOj7bVQTME",
    "outputId": "1c423a80-e18a-4210-ae25-921a6ef216c7"
   },
   "outputs": [],
   "source": [
    "# Tutaj też przykład kiedy dwa typy się przydają\n",
    "# Chcemy żeby w naszej zmiennej był napis - Punkt \"na górce\"\n",
    "# Możemy to zrobić bez problemu o tak:\n",
    "nazwa_punktu = 'Punkt \"na górce\"'\n",
    "print(nazwa_punktu)"
   ]
  },
  {
   "cell_type": "code",
   "execution_count": null,
   "metadata": {
    "colab": {
     "base_uri": "https://localhost:8080/",
     "height": 135
    },
    "id": "_d0PyXwcQuXJ",
    "outputId": "4306c7c6-343b-40dd-fd76-464862f4be63"
   },
   "outputs": [],
   "source": [
    "# A tutaj przykład jak to może nie wyjść...\n",
    "zla_nazwa_punktu = \"Punkt \"na górce\"\""
   ]
  },
  {
   "cell_type": "markdown",
   "metadata": {
    "id": "28PgDiYwQ7df"
   },
   "source": [
    "Takich rzeczy w pythonie jest dużo. Ale spokojnie, powiemy o tym więcej w swoim czasie 😋\n",
    "\n",
    "Pułapka druga - bardzo ważna! Kiedy piszemy w notatniku np. \"123\" podświadomie interpretujemy to jako liczbę. Należy jednak pamiętać o jednym - komputer nie robi niczego sam, wszystko musimy mu wyraźnie przekazać. Np:"
   ]
  },
  {
   "cell_type": "code",
   "execution_count": null,
   "metadata": {
    "id": "VETYPP55Q5Dl"
   },
   "outputs": [],
   "source": [
    "jeden_int = 1\n",
    "jeden_float = 1.0\n",
    "jeden_string = \"1\""
   ]
  },
  {
   "cell_type": "markdown",
   "metadata": {
    "id": "SegFOqJnR63U"
   },
   "source": [
    "Pewnie gdyby czytał to człowiek to powiedziałby, że w każdej z trzech zmiennych jest to samo. Komputer jednak tego nie wie... Dla niego tekst z jedynką, jedynka i jedynka z przecinkiem to trzy totalnie inne rzeczy (w szczególności można z nimi robić zupełnie inne rzeczy). Czy to znaczy, że jeżeli zamiast jedynki dostaniemy tekst z jedynką to pozostaje siąść i płakać? Oczywiście że nie 😉 Musimy tylko pamiętać, że ten problem istnieje i świadomie zamieniać typy zmiennych z jednej na drugą. Jak zmieniać? To za chwilę 😀 Najpierw jeszcze dwa małe (ale bardzo ważne) typy.\n",
    "\n",
    "Bardzo często w programowaniu musimy sprawdzać czy jakieś zmienne podlegają jakimś warunkom (np. czy zmienna x jest mniejsza od 0). Bardzo często nie zauważamy tego, ale każde takie sprawdzenie tak na prawde daje nam wynik pewnego typu. Ten typ to __bool__ (ang. boolean, typ logiczny nazwany po panu Boole'u). Co to jest typ logiczny? Może ktoś to pamiętać z logiki matematycznej z liceum, a jak nie to w skrócie: wartość mówiąca czy coś jest prawdziwe czy fałszywe:"
   ]
  },
  {
   "cell_type": "code",
   "execution_count": null,
   "metadata": {
    "id": "pLSV4YhMURCo"
   },
   "outputs": [],
   "source": [
    "zmienna_prawda = True\n",
    "zmienna_falsz = False"
   ]
  },
  {
   "cell_type": "markdown",
   "metadata": {
    "id": "HDSy_tkoUYQX"
   },
   "source": [
    "I to tyle, tu opcje się kończą. Jak widać do stworzenia tego typu zmiennych uzywamy specjalnych słów \"True\" i \"False\". Jeżeli widzisz to po raz pierwszy pewnie zastanawaisz się po co komuś taki typ zmiennych. O dziwo, bez niego nie dałoby się mówić o informatyce 😀 Nie będziemy jednak się nad tym rozwodzić, bo to będzie widać kiedy zaczniemy już na prawdę programować.\n",
    "\n",
    "Jeżeli myślisz, że wartości logiczne są bez sensu to patrz na to. Przed nami ostatni typ zmiennych - __None__, czyli... nic? Tak, zmienne o wartości None nie przechowują niczego. Po co taka zmienna? Polecimy klasykiem - później się okaże. No i klasycznie przykład:"
   ]
  },
  {
   "cell_type": "code",
   "execution_count": null,
   "metadata": {
    "id": "tJKnrIhaUkR2"
   },
   "outputs": [],
   "source": [
    "zmienna_nic = None"
   ]
  },
  {
   "cell_type": "markdown",
   "metadata": {
    "id": "xK8ORVUvWEFl"
   },
   "source": [
    "To już wszystkie typy zmiennych, które będą ważne na początku. Wiemy, że wstęp był bardzo ogólny i bez konkretów. Musicie nam jednak zaufać, wszystko będzie się rozjaśniać w trakcie 😀. Z tego wstępu chcemy żebyście zapamiętali:\n",
    "\n",
    "\n",
    "*   Jak wolno i nie wolno nazywać zmienne w pythonie.\n",
    "*   Jakie proste typy danych mamy w pythonie (czyli te, które opisaliśmy) i jak się tworzy zmienne ich typu.\n",
    "*   Że komputer nigdy nie będzie wiedział, że zmienna danego typu może być interpretowana w inny sposób. To wszystko jest niestety po naszej stronie.\n",
    "\n",
    "\n"
   ]
  },
  {
   "cell_type": "markdown",
   "metadata": {
    "id": "ncphMH6OXZb1"
   },
   "source": [
    "## Małe sprostowanie\n",
    "Zanim przejdziemy dalej musimy wam się przyznać do kilku małych kłamstw. Celowo nie mówimy wszystkiego na raz żeby uniknąć natłoku wiedzy. Jak pewnie zauważasz na wykładach, czasami trzeba wprowadzać informacje stopniowo, bo wtedy mają one troche więcej sensu. To jest motyw przewodni całego naszego kursu - po malutku. Uważamy, że ta wiedza przekazana powyżej jest wystarczająca na start żeby dało się dobrze tłumaczyć kolejne punkty kursu, a kiedy nie będzie wystarczająca to dodamy więcej. Warto wtedy wrócić do tego tutorialu i spojrzeć jak nowe rzeczy prezentują się przy tych starych i dobrze znanych. Brzmi to sztampowo, ale dostrzegliśmy to jako programiści. Warto czasem wrócić do początku i poukładać klocki od nowa 😆\n",
    "\n",
    "O czym na przykład skłamaliśmy tutaj? Po pierwsze - nie są to wszystkie typy zmiennych występujące domyślnie w pythonie. Pozostałe z nich będą miały jeszcze mniej sensu niż ostatnie dwa jeżeli nie poprogramuje się troche i nie oswoi z pewnymi konceptami i sztuczkami.\n",
    "\n",
    "Drugie kłamstwo - przedstawione tutaj typy danych to __typy proste__, czyli takie, których nie da się już rozłożyć na prostsze. Czy są inne typy? Tak. Poza typami prostymi są też typy złożone, ale o nich będzie potem jak już zmęczymy was prostymi 😋"
   ]
  },
  {
   "cell_type": "markdown",
   "metadata": {
    "id": "r8kfUyFDZeMc"
   },
   "source": [
    "## Zmiana typu\n",
    "\n",
    "Skoro zostawiliśmy dużo pytań na później, to czas zacząć na nie trochę odpowiadać. Na początek odpowiemy na jedno: co jeżeli zmienna jest jednego typu, a my chcemy żeby była innego.\n",
    "\n",
    "W takiej sytuacji należy wykonać tzw. __konwersję typów__. To mądre określenie ma wiele innych nazw - rzutowanie typów, castowanie (po angielsku ta operacja nazywa się \"types casting\"), ale zawsze sprowadza się do tego samego. Zacznijmy od łatwego przykładu:\n",
    "\n",
    "Załóżmy, że nasza zmienna (x) ma wartość 1.0 (czyli float), a chcemy żeby miała wartość 1 (int). Jeżeli ktoś pomyślał \"ale po co?\" - to zdarza się częściej niż Ci się wydaje... Taką operację możemy wykonać następująco:"
   ]
  },
  {
   "cell_type": "code",
   "execution_count": null,
   "metadata": {
    "colab": {
     "base_uri": "https://localhost:8080/"
    },
    "id": "SEfrYFNQa6rw",
    "outputId": "90eaa0cc-86ea-4616-fd63-01c3b7be055b"
   },
   "outputs": [],
   "source": [
    "x = 1.0 # Nasza zmienna \n",
    "x_intowy = int(x)\n",
    "print(\"Wartość x: \", x, \", typ x: \", type(x))\n",
    "print(\"Wartość x_intowy: \", x_intowy, \", typ x_intowy: \", type(x_intowy))"
   ]
  },
  {
   "cell_type": "markdown",
   "metadata": {
    "id": "1W_Ls2qFbqBQ"
   },
   "source": [
    "Teraz na podstawie przykładu kilka wniosków.\n",
    "\n",
    "Po pierwsze - Jak zmieniamy typy? Dla każdego typu (poza None) istnieje specjalna funkcja służąca do zmiany innych wartości na ten typ. Funkcje nazywają się tak jak typy czyli \"int\", \"float\", \"bool\" i \"str\". Wykorzystując te funkcje możemy zmieniać typy zmiennych w te i we wte 😉\n",
    "Najłatwiej pokazać to przykładami:"
   ]
  },
  {
   "cell_type": "code",
   "execution_count": null,
   "metadata": {
    "colab": {
     "base_uri": "https://localhost:8080/"
    },
    "id": "SE-hw00Nce1o",
    "outputId": "c327ecaa-ecde-4e7d-bc24-58df5cdce715"
   },
   "outputs": [],
   "source": [
    "# Tworzenie intów\n",
    "print(int(1)) # Niepotrzebne, ale też działa w razie czego\n",
    "print(int(1.0)) # To co już było - zamiana liczby z przecinkiem na bez przecinka\n",
    "print(int(1.1)) # Uwaga, zamiana nie zaokrągla tylko KASUJE przecinek!\n",
    "print(int(-1.1)) # Tak samo tu\n",
    "print(int(\"1\")) # A tutaj przykład co jeżeli damy tekst\n",
    "print(int(True)) # To samo dla booli\n",
    "print(int(False))"
   ]
  },
  {
   "cell_type": "code",
   "execution_count": null,
   "metadata": {
    "colab": {
     "base_uri": "https://localhost:8080/",
     "height": 209
    },
    "id": "Hmp71MDVeYa8",
    "outputId": "7a77e9af-94e2-44f0-e3d0-bd2460cb77f9"
   },
   "outputs": [],
   "source": [
    "# Przykłady co nie zadziała\n",
    "print(int(None))"
   ]
  },
  {
   "cell_type": "code",
   "execution_count": null,
   "metadata": {
    "colab": {
     "base_uri": "https://localhost:8080/",
     "height": 172
    },
    "id": "U0tjn4l3e2ov",
    "outputId": "fa7eac28-bddb-4025-dee5-8cf69c237318"
   },
   "outputs": [],
   "source": [
    "print(int(\"abc\"))"
   ]
  },
  {
   "cell_type": "code",
   "execution_count": null,
   "metadata": {
    "colab": {
     "base_uri": "https://localhost:8080/"
    },
    "id": "rFjGD8bCdkkA",
    "outputId": "8031e294-e24d-496c-c59f-6c587c3b3929"
   },
   "outputs": [],
   "source": [
    "# Tworzenie floatów\n",
    "print(float(1.0))\n",
    "print(float(1))\n",
    "print(float(-1))\n",
    "print(float(\"1.123\"))\n",
    "print(float(True))\n",
    "print(float(False))"
   ]
  },
  {
   "cell_type": "code",
   "execution_count": null,
   "metadata": {
    "id": "9N0zS47Ce8FL"
   },
   "outputs": [],
   "source": [
    "# Błędna zamiana na float\n",
    "float(None)"
   ]
  },
  {
   "cell_type": "code",
   "execution_count": null,
   "metadata": {
    "id": "UNJRNHaXe_p2"
   },
   "outputs": [],
   "source": [
    "float('abc')"
   ]
  },
  {
   "cell_type": "code",
   "execution_count": null,
   "metadata": {
    "id": "fGXXYQf1fM_p"
   },
   "outputs": [],
   "source": [
    "# Zamiana na bool\n",
    "print(bool(True), bool(False)) #Klasycznie\n",
    "print(bool(1), bool(0)) # Jeżeli damy na wejściu int - 0 to False, reszta to True \n",
    "print(bool(99), bool(-90)) # Ta sama zasada tyczy się + i -. Tylko 0 to False.\n",
    "print(bool(1.0), bool(0.0)) # To samo działa też dla float...\n",
    "print(bool(\"True\"), bool('False')) # Niestety z typem str musimy bawić się inaczej\n",
    "print(bool(\"true\"), bool('false'))\n",
    "print(bool(None)) # Niespodzianka, tu None działa "
   ]
  },
  {
   "cell_type": "code",
   "execution_count": null,
   "metadata": {
    "id": "f_FFCT2JlbJi"
   },
   "outputs": [],
   "source": [
    "# I na koniec str\n",
    "print(str(1))\n",
    "print(str(1.01))\n",
    "print(str('abc'))\n",
    "print(str(None))\n",
    "print(str(True), str(False))"
   ]
  },
  {
   "cell_type": "markdown",
   "metadata": {},
   "source": [
    "Na tym etapie warto wprowadzić jeszcze jedną przydatną rzecz odnośnie zmiennych tekstowych. W przyszłym notatniku opowiemy trochę o tym jak nimi manipulować, ale ta rzecz może się przydać już na tym etapie 😉\n",
    "\n",
    "Pewnie wpadło Ci w oko, że wypisywanie dłuższych tekstów pomieszanych ze zmiennymi często bywa bardzo męczące (trzeba pisać dużo przecinków i takie tam). Można to sobie ułatwić z wykorzystaniem tzw. f-string'a (ang. formatted string).\n",
    "Zacznijmy od przykładu:"
   ]
  },
  {
   "cell_type": "code",
   "execution_count": 5,
   "metadata": {},
   "outputs": [
    {
     "name": "stdout",
     "output_type": "stream",
     "text": [
      "Zmienna float: 10.01 , zmienna int: 10\n",
      "Zmienna float: 10.01, zmienna int: 10\n",
      "Zmienna float: 10.01, zmienna int: 10\n"
     ]
    }
   ],
   "source": [
    "# Wypisywanie z wykorzystaniem samego printa\n",
    "print('Zmienna float:', 10.01, ', zmienna int:', 10)\n",
    "\n",
    "# Budowa tekstu (o tym powiemy więcej następnym razem)\n",
    "print('Zmienna float: ' +  str(10.01) + ', zmienna int: ' + str(10))\n",
    "\n",
    "# F-String\n",
    "print(f\"Zmienna float: {10.01}, zmienna int: {10}\")"
   ]
  },
  {
   "cell_type": "markdown",
   "metadata": {},
   "source": [
    "Formatowanie to pozwala znacznie skrócić zapis jeżeli chcemy wypisywać, albo tworzyć zmienne tekstowe z wykorzystaniem wartości zmiennych."
   ]
  },
  {
   "cell_type": "markdown",
   "metadata": {
    "id": "absgx_AIlzAp"
   },
   "source": [
    "# Podsumowanie\n",
    "To na tyle jeżeli chodzi o typy proste i prostą zamianę z jednego na drugi. Oczywiście sucha zamiana nie obrazuje jak na prawdę będziemy to wykorzystywać. Warto jednak to pokazać, żeby później kiedy będziemy się już używać to w realnych warunkach zapaliła się ta przysłowiowa lampka 😉.\n",
    "\n",
    "Zachęcamy do przetestowania swoich umiejętności na notatnikach z zadaniami!"
   ]
  }
 ],
 "metadata": {
  "colab": {
   "collapsed_sections": [],
   "name": "Untitled0.ipynb",
   "provenance": []
  },
  "kernelspec": {
   "display_name": "Python 3",
   "language": "python",
   "name": "python3"
  },
  "language_info": {
   "codemirror_mode": {
    "name": "ipython",
    "version": 3
   },
   "file_extension": ".py",
   "mimetype": "text/x-python",
   "name": "python",
   "nbconvert_exporter": "python",
   "pygments_lexer": "ipython3",
   "version": "3.8.8"
  }
 },
 "nbformat": 4,
 "nbformat_minor": 4
}
