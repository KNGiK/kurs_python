{
 "cells": [
  {
   "cell_type": "markdown",
   "id": "f6f7fa38-e9dc-4ee6-a461-7d825927d255",
   "metadata": {},
   "source": [
    "# Ćwiczenia - Zmienne\n",
    "# Zestaw 2"
   ]
  },
  {
   "cell_type": "markdown",
   "id": "c04e1d61-4f59-494b-9f20-c6a5ad3a68c0",
   "metadata": {},
   "source": [
    "## Zadanie 1\n",
    "\n",
    "Utwórz dwie zmienne (x i y). Do pierwszej przypisz wartość 8 a do drugiej 10. Niech pierwsza będzie liczbą całkowitą, a druga liczbą z przecinkiem. Wyświetl wyniki."
   ]
  },
  {
   "cell_type": "code",
   "execution_count": null,
   "id": "02e0a148-4b22-482a-9f4a-f075bc303125",
   "metadata": {},
   "outputs": [],
   "source": [
    "# Tu umieść swój kod\n"
   ]
  },
  {
   "cell_type": "markdown",
   "id": "a8967d87-f659-41c9-a4f0-37f8b08892e3",
   "metadata": {},
   "source": [
    "## Zadanie 2\n",
    "Utwórz dwie zmienne tekstowe. Pierwsza niech zawiera tekst `Koło Naukowe Geodezji i Kartografii PW`, a druga `Stowarzyszenie Studentów Wydziału Geodezji i Kartografii PW \"GEOIDA\"`. Wyświetl obie zmienne oddzielone przecinkiem.\n",
    "Wykorzystaj f-string'a."
   ]
  },
  {
   "cell_type": "code",
   "execution_count": null,
   "id": "88b5bd40-9f62-4d81-a73b-bbf386ecfe53",
   "metadata": {},
   "outputs": [],
   "source": [
    "# Tu umieść swój kod\n"
   ]
  },
  {
   "cell_type": "markdown",
   "id": "28eb73ca-14d2-4f91-ac7f-be6f4ba62633",
   "metadata": {},
   "source": [
    "## Zadanie 3\n",
    "Utwórz zmienną i nadaj jej dowolną wartość logiczną, następnie wypisz jej wartość. Po wypisaniu zmień wartość na przeciwną i znowu wypisz"
   ]
  },
  {
   "cell_type": "code",
   "execution_count": null,
   "id": "79b6b4e4-ada3-43c8-9cd0-a1345749ff6c",
   "metadata": {},
   "outputs": [],
   "source": [
    "# Tu umieść swój kod\n"
   ]
  },
  {
   "cell_type": "markdown",
   "id": "a5e1e10b-be86-474b-b625-4d9352657581",
   "metadata": {},
   "source": [
    "## Zadanie 4\n",
    "Na wejściu otrzymujesz zmienną \"wejscie\". Utwórz nową zmienną i przypisz do niej wartość zmiennej \"wejscie\" ale po zamianie na typ zmiennoprzecinkowy. Wypisz wartość obu zmiennych (w jednej linii)."
   ]
  },
  {
   "cell_type": "code",
   "execution_count": null,
   "id": "f72d1a86-a18f-45cb-a736-2ac62279ee70",
   "metadata": {},
   "outputs": [],
   "source": [
    "wejscie = 2022\n",
    "# Tu umieść swój kod\n",
    "\n"
   ]
  },
  {
   "cell_type": "markdown",
   "id": "19427200-3f2d-40f9-b454-b0b051fd03c7",
   "metadata": {},
   "source": [
    "## Zadanie 5 (fabularne)\n",
    "Podczas odczytu pliku tekstowego w pythonie wszystko jest odczytywane jako tekst. Kod poniżej będzie symulował odczyt linii po linii pliku. Zamień każdą wartość tekstową na liczbę zmiennoprzecinkową i wypisz je. Na wejściu otrzymujesz zmienną \"l\" z tekstem."
   ]
  },
  {
   "cell_type": "code",
   "execution_count": null,
   "id": "68a218f1-8104-4303-8f22-2bbcea50e22b",
   "metadata": {
    "tags": []
   },
   "outputs": [],
   "source": [
    "linie = [\"123.123\", \"12.345\", \"1.1\", \"10\"]\n",
    "for l in linie:\n",
    "    # Uzupełnij poniższą linię kodu\n",
    "    l_liczba = \n",
    "\n",
    "    print(l_liczba)"
   ]
  },
  {
   "cell_type": "markdown",
   "id": "4b5fe774-1669-4f37-8caf-4e6f814db348",
   "metadata": {},
   "source": [
    "## Zadanie 6\n",
    "Na wejściu otrzymujesz dwie zmienne (a i b) o zadanych wartościach. Używając jednej zmiennej dodatkowej zamień zmienne wartościami.\n",
    "Przykładowo: na starcie a = 10 i b = 20, na końcu a = 20 i b = 10"
   ]
  },
  {
   "cell_type": "code",
   "execution_count": null,
   "id": "707624e4-7111-46a3-9b0b-8c9f4c4b7caa",
   "metadata": {},
   "outputs": [],
   "source": [
    "a = 100\n",
    "b = -1.1\n",
    "print(\"Przed: a = \", a, \" b = \", b)\n",
    "# Tu umieść swój kod\n",
    "\n",
    "\n",
    "print(\"Po: a = \", a, \" b = \", b)"
   ]
  },
  {
   "cell_type": "markdown",
   "id": "9fc48cab-2bdd-413c-b406-c69419cfa0fe",
   "metadata": {},
   "source": [
    "## Zadanie 7\n",
    "Czym według Ciebie spowodowany jest poniższy błąd?\n",
    "```\n",
    "File \"<ipython-input-12-563084b3e606>\", line 1\n",
    "    if = 10\n",
    "       ^\n",
    "SyntaxError: invalid syntax\n",
    "```"
   ]
  },
  {
   "cell_type": "markdown",
   "id": "e453c11f-79f8-48fa-bdb0-9f42d9ba3451",
   "metadata": {},
   "source": [
    "## Zadanie 8\n",
    "Jaki będzie wynik działania linii kodu zamiany tekstu \"1,100\" na typ float. Czy jej wykonanie się powiedzie? Jeżeli nie, to dlaczego?\n",
    "Możesz przetestować kod poniżej."
   ]
  },
  {
   "cell_type": "code",
   "execution_count": null,
   "id": "92aa80f0-944b-4309-a471-4260ce08e9d7",
   "metadata": {},
   "outputs": [],
   "source": [
    "x = \"1,100\"\n",
    "\n",
    "# Tu umieść swój kod"
   ]
  }
 ],
 "metadata": {
  "kernelspec": {
   "display_name": "Python 3",
   "language": "python",
   "name": "python3"
  },
  "language_info": {
   "codemirror_mode": {
    "name": "ipython",
    "version": 3
   },
   "file_extension": ".py",
   "mimetype": "text/x-python",
   "name": "python",
   "nbconvert_exporter": "python",
   "pygments_lexer": "ipython3",
   "version": "3.8.8"
  }
 },
 "nbformat": 4,
 "nbformat_minor": 5
}
