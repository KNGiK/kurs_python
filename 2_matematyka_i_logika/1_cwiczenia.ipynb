{
 "cells": [
  {
   "cell_type": "markdown",
   "id": "21c5093f",
   "metadata": {},
   "source": [
    "# Ćwiczenia - operatory i logika\n",
    "## Zestaw 1"
   ]
  },
  {
   "cell_type": "markdown",
   "id": "02b65c06",
   "metadata": {},
   "source": [
    "## Zadanie 1\n",
    "Utwórz zmienna x i y. Do pierwszej przypisz wartość 10, a do drugiej 3. Użyj operatora / oraz // do wykonania dwóch działań. Wyświetl wyniki. Jakiego typu wyniki otrzymasz?"
   ]
  },
  {
   "cell_type": "code",
   "execution_count": null,
   "id": "51dd9985",
   "metadata": {},
   "outputs": [],
   "source": [
    "# Tu umieść kod\n"
   ]
  },
  {
   "cell_type": "markdown",
   "id": "db87b342",
   "metadata": {},
   "source": [
    "## Zadanie 2\n",
    "Utwórz dwie zmienne dzielna oraz dzielnik. Przypisz zmiennej dzielna dowolną wartość całkowitą lub zmiennoprzecinkową. Zmiennej dzielnik przypisz wartość 0. Wywołaj działanie dzielna / dzielnik. Odpowiedz, czy działanie się powiedzie."
   ]
  },
  {
   "cell_type": "code",
   "execution_count": null,
   "id": "ebd416b9",
   "metadata": {},
   "outputs": [],
   "source": [
    "# Tu umieść kod\n"
   ]
  },
  {
   "cell_type": "markdown",
   "id": "f657b836",
   "metadata": {},
   "source": [
    "## Zadanie 3\n",
    "Utwórz zmienne tekstowe. Pierwsza z nich zawiera tekst `KNGiK`, a druga `Geoida`. Złącz ze sobą dwie zmiennę i zapisz do nowej zmiennej. Następnie utwórz trzy takie same napisy. Wyświetl wynik."
   ]
  },
  {
   "cell_type": "code",
   "execution_count": null,
   "id": "a9aa50af",
   "metadata": {},
   "outputs": [],
   "source": [
    "# Tu umieść kod\n"
   ]
  },
  {
   "cell_type": "markdown",
   "id": "679a0a82",
   "metadata": {},
   "source": [
    "## Zadanie 4\n",
    "Utwórz zmienną typu float oraz zmienną typu string. Nadaj im dowolne wartości. Następnie wykonaj dowolną operacje matematyczną na utworzonych zmiennych. Wyświetl wynik."
   ]
  },
  {
   "cell_type": "code",
   "execution_count": null,
   "id": "9a3f4ba8",
   "metadata": {},
   "outputs": [],
   "source": [
    "# Tu umieść kod\n"
   ]
  },
  {
   "cell_type": "markdown",
   "id": "9df7bd50",
   "metadata": {},
   "source": [
    "## Zadanie 5\n",
    "Utwórz zmienną promien o wartości 100.00. Następnie zwiększ wartość zmiennej o 5, oraz podziel otrzymaną zmienną przez 5. Spróbuj użyć operatorów przypisania."
   ]
  },
  {
   "cell_type": "code",
   "execution_count": null,
   "id": "2338254a",
   "metadata": {},
   "outputs": [],
   "source": [
    "# Tu umieść kod\n"
   ]
  },
  {
   "cell_type": "markdown",
   "id": "11990410",
   "metadata": {},
   "source": [
    "## Zadanie 6\n",
    "Utwórz zmienną x o wartości 23.4. Sprawdź czy zmienna zawiera się w przedziale (23.4, 23.5>."
   ]
  },
  {
   "cell_type": "code",
   "execution_count": null,
   "id": "e1dbd03f",
   "metadata": {},
   "outputs": [],
   "source": [
    "# Tu umieść kod\n"
   ]
  },
  {
   "cell_type": "markdown",
   "id": "63a57712",
   "metadata": {},
   "source": [
    "## Zadanie 7\n",
    "Stwórz zmienną i nadaj jej dowolną wartość logiczną. Następnie, zmień jej wartość na przeciwną. Kolejno wyznacz wartość z wyrażenia: (zmienna lub True) i False. Wyświetl wynik"
   ]
  },
  {
   "cell_type": "code",
   "execution_count": null,
   "id": "ce563e0f",
   "metadata": {},
   "outputs": [],
   "source": [
    "# Tu umieść kod\n"
   ]
  },
  {
   "cell_type": "markdown",
   "id": "5f3fb71f",
   "metadata": {},
   "source": [
    "## Zadanie 8\n",
    "Stwórz zmienną x i nadaj jej wartość -10. Wyznacz wartość bezwzględną ze zmiennej i zapisz ją do nowej zmiennej x_bezwzgledna. Sprawdź czy wartość jest większa od zera. Wyświetl wynik."
   ]
  },
  {
   "cell_type": "code",
   "execution_count": null,
   "id": "cb031cda",
   "metadata": {},
   "outputs": [],
   "source": [
    "# Tu umieść kod\n"
   ]
  },
  {
   "cell_type": "markdown",
   "id": "d730289b",
   "metadata": {},
   "source": [
    "## Zadanie 9\n",
    "Stwórz zmienną f o wartości 220.35531. Zaokrąglij ją do 2 miejsc po przecinku. Wyświetl wynik."
   ]
  },
  {
   "cell_type": "code",
   "execution_count": null,
   "id": "a2de594a",
   "metadata": {},
   "outputs": [],
   "source": [
    "# Tu umieść kod\n"
   ]
  }
 ],
 "metadata": {
  "kernelspec": {
   "display_name": "Python 3",
   "language": "python",
   "name": "python3"
  },
  "language_info": {
   "codemirror_mode": {
    "name": "ipython",
    "version": 3
   },
   "file_extension": ".py",
   "mimetype": "text/x-python",
   "name": "python",
   "nbconvert_exporter": "python",
   "pygments_lexer": "ipython3",
   "version": "3.8.8"
  }
 },
 "nbformat": 4,
 "nbformat_minor": 5
}
