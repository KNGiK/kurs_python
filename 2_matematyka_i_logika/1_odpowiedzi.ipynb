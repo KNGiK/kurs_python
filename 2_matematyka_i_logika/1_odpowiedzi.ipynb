{
 "cells": [
  {
   "cell_type": "markdown",
   "id": "21c5093f",
   "metadata": {},
   "source": [
    "# Ćwiczenia - operatory i logika\n",
    "## Zestaw 1"
   ]
  },
  {
   "cell_type": "markdown",
   "id": "02b65c06",
   "metadata": {},
   "source": [
    "## Zadanie 1"
   ]
  },
  {
   "cell_type": "code",
   "execution_count": 2,
   "id": "51dd9985",
   "metadata": {},
   "outputs": [
    {
     "name": "stdout",
     "output_type": "stream",
     "text": [
      "Wynik typu float:  3.3333333333333335\n",
      "Wyniku typu int:  3\n"
     ]
    }
   ],
   "source": [
    "x, y = 10, 3\n",
    "\n",
    "# Wykorzytsanie /\n",
    "print('Wynik typu float: ', 10 / 3)\n",
    "\n",
    "# Wykorzystanie //\n",
    "print('Wyniku typu int: ', 10 // 3)"
   ]
  },
  {
   "cell_type": "markdown",
   "id": "db87b342",
   "metadata": {},
   "source": [
    "## Zadanie 2"
   ]
  },
  {
   "cell_type": "code",
   "execution_count": 3,
   "id": "ebd416b9",
   "metadata": {},
   "outputs": [
    {
     "ename": "ZeroDivisionError",
     "evalue": "float division by zero",
     "output_type": "error",
     "traceback": [
      "\u001b[1;31m---------------------------------------------------------------------------\u001b[0m",
      "\u001b[1;31mZeroDivisionError\u001b[0m                         Traceback (most recent call last)",
      "\u001b[1;32m<ipython-input-3-2cd864439887>\u001b[0m in \u001b[0;36m<module>\u001b[1;34m\u001b[0m\n\u001b[0;32m      2\u001b[0m \u001b[0mdzielnik\u001b[0m \u001b[1;33m=\u001b[0m \u001b[1;36m0\u001b[0m\u001b[1;33m\u001b[0m\u001b[1;33m\u001b[0m\u001b[0m\n\u001b[0;32m      3\u001b[0m \u001b[1;33m\u001b[0m\u001b[0m\n\u001b[1;32m----> 4\u001b[1;33m \u001b[0mprint\u001b[0m\u001b[1;33m(\u001b[0m\u001b[0mdzielna\u001b[0m \u001b[1;33m/\u001b[0m \u001b[0mdzielnik\u001b[0m\u001b[1;33m)\u001b[0m\u001b[1;33m\u001b[0m\u001b[1;33m\u001b[0m\u001b[0m\n\u001b[0m",
      "\u001b[1;31mZeroDivisionError\u001b[0m: float division by zero"
     ]
    }
   ],
   "source": [
    "dzielna = 100.23\n",
    "dzielnik = 0\n",
    "\n",
    "print(dzielna / dzielnik)"
   ]
  },
  {
   "cell_type": "markdown",
   "id": "b3560e86",
   "metadata": {},
   "source": [
    "## Odpowiedź\n",
    "Działenie nie powiodło się ze względu na to, że zgodnie z prawami matematycznymi nie ma możliwości dzielenia przez 0.\n",
    "Python komunikuje nas odpowiednimi błędem `ZeroDivisionError`"
   ]
  },
  {
   "cell_type": "markdown",
   "id": "f657b836",
   "metadata": {},
   "source": [
    "## Zadanie 3"
   ]
  },
  {
   "cell_type": "code",
   "execution_count": 5,
   "id": "a9aa50af",
   "metadata": {},
   "outputs": [
    {
     "name": "stdout",
     "output_type": "stream",
     "text": [
      "KNGiKGeoida\n",
      "KNGiKGeoidaKNGiKGeoidaKNGiKGeoida\n"
     ]
    }
   ],
   "source": [
    "kngik = 'KNGiK'\n",
    "geoida = 'Geoida'\n",
    "kngik_i_geoida = kngik + geoida\n",
    "\n",
    "print(kngik_i_geoida)\n",
    "print(3 * kngik_i_geoida)"
   ]
  },
  {
   "cell_type": "markdown",
   "id": "679a0a82",
   "metadata": {},
   "source": [
    "## Zadanie 4\n",
    "Utwórz zmienną typu float oraz zmienną typu string. Nadaj im dowolne wartości. Następnie wykonaj dowolną operacje matematyczną na utworzonych zmiennych. Wyświetl wynik."
   ]
  },
  {
   "cell_type": "code",
   "execution_count": 9,
   "id": "9a3f4ba8",
   "metadata": {},
   "outputs": [
    {
     "ename": "TypeError",
     "evalue": "unsupported operand type(s) for +: 'float' and 'str'",
     "output_type": "error",
     "traceback": [
      "\u001b[1;31m---------------------------------------------------------------------------\u001b[0m",
      "\u001b[1;31mTypeError\u001b[0m                                 Traceback (most recent call last)",
      "\u001b[1;32m<ipython-input-9-6bcbf4b441de>\u001b[0m in \u001b[0;36m<module>\u001b[1;34m\u001b[0m\n\u001b[0;32m      2\u001b[0m \u001b[0mtekst\u001b[0m \u001b[1;33m=\u001b[0m \u001b[1;34m'2'\u001b[0m\u001b[1;33m\u001b[0m\u001b[1;33m\u001b[0m\u001b[0m\n\u001b[0;32m      3\u001b[0m \u001b[1;33m\u001b[0m\u001b[0m\n\u001b[1;32m----> 4\u001b[1;33m \u001b[0mprint\u001b[0m\u001b[1;33m(\u001b[0m\u001b[0mx\u001b[0m \u001b[1;33m+\u001b[0m \u001b[0mtekst\u001b[0m\u001b[1;33m)\u001b[0m\u001b[1;33m\u001b[0m\u001b[1;33m\u001b[0m\u001b[0m\n\u001b[0m\u001b[0;32m      5\u001b[0m \u001b[0mprint\u001b[0m\u001b[1;33m(\u001b[0m\u001b[0mx\u001b[0m \u001b[1;33m*\u001b[0m \u001b[0mtekst\u001b[0m\u001b[1;33m)\u001b[0m\u001b[1;33m\u001b[0m\u001b[1;33m\u001b[0m\u001b[0m\n\u001b[0;32m      6\u001b[0m \u001b[0mprint\u001b[0m\u001b[1;33m(\u001b[0m\u001b[0mx\u001b[0m \u001b[1;33m**\u001b[0m \u001b[0mtekst\u001b[0m\u001b[1;33m)\u001b[0m\u001b[1;33m\u001b[0m\u001b[1;33m\u001b[0m\u001b[0m\n",
      "\u001b[1;31mTypeError\u001b[0m: unsupported operand type(s) for +: 'float' and 'str'"
     ]
    }
   ],
   "source": [
    "x = 20.34\n",
    "tekst = '2'\n",
    "\n",
    "print(x + tekst)\n",
    "print(x * tekst)\n",
    "print(x ** tekst)\n",
    "\n",
    "# żadna z powyższych operacji niepowiedzie się. Nie można używać zmiennych typu float i tekst w operacjach matematycznych!"
   ]
  },
  {
   "cell_type": "markdown",
   "id": "9df7bd50",
   "metadata": {},
   "source": [
    "## Zadanie 5"
   ]
  },
  {
   "cell_type": "code",
   "execution_count": 11,
   "id": "2338254a",
   "metadata": {},
   "outputs": [
    {
     "name": "stdout",
     "output_type": "stream",
     "text": [
      "105.0\n",
      "21.0\n"
     ]
    }
   ],
   "source": [
    "promien = 100.00\n",
    "\n",
    "promien += 5\n",
    "print(promien)\n",
    "\n",
    "promien /= 5\n",
    "print(promien)"
   ]
  },
  {
   "cell_type": "markdown",
   "id": "11990410",
   "metadata": {},
   "source": [
    "## Zadanie 6"
   ]
  },
  {
   "cell_type": "code",
   "execution_count": 12,
   "id": "e1dbd03f",
   "metadata": {},
   "outputs": [
    {
     "name": "stdout",
     "output_type": "stream",
     "text": [
      "False\n"
     ]
    }
   ],
   "source": [
    "x = 23.4\n",
    "\n",
    "print(23.4 < x <= 23.5)"
   ]
  },
  {
   "cell_type": "markdown",
   "id": "63a57712",
   "metadata": {},
   "source": [
    "## Zadanie 7"
   ]
  },
  {
   "cell_type": "code",
   "execution_count": 15,
   "id": "ce563e0f",
   "metadata": {},
   "outputs": [
    {
     "name": "stdout",
     "output_type": "stream",
     "text": [
      "False\n",
      "False\n",
      "True\n",
      "False\n"
     ]
    }
   ],
   "source": [
    "# dla zmiennej True\n",
    "zmienna = True\n",
    "zmienna = not zmienna\n",
    "\n",
    "print(zmienna)\n",
    "\n",
    "print((zmienna or True) and False) #False or True = True -> True and False = False\n",
    "\n",
    "# dla zmiennej False\n",
    "zmienna = False\n",
    "zmienna = not zmienna\n",
    "\n",
    "print(zmienna)\n",
    "\n",
    "print((zmienna or True) and False) #True or True = True -> True and False = False"
   ]
  },
  {
   "cell_type": "markdown",
   "id": "5f3fb71f",
   "metadata": {},
   "source": [
    "## Zadanie 8"
   ]
  },
  {
   "cell_type": "code",
   "execution_count": 17,
   "id": "cb031cda",
   "metadata": {},
   "outputs": [
    {
     "name": "stdout",
     "output_type": "stream",
     "text": [
      "True\n"
     ]
    }
   ],
   "source": [
    "x = - 10\n",
    "x_bezwzgledna = abs(x) # użycie funkcji wbudowanej abs() wyznacza wartość bezwzględną liczby\n",
    "\n",
    "print(x_bezwzgledna > 0)"
   ]
  },
  {
   "cell_type": "markdown",
   "id": "d730289b",
   "metadata": {},
   "source": [
    "## Zadanie 9\n",
    "Stwórz zmienną f o wartości 220.35531. Zaokrąglij ją do 2 miejsc po przecinku. Wyświetl wynik."
   ]
  },
  {
   "cell_type": "code",
   "execution_count": 18,
   "id": "a2de594a",
   "metadata": {},
   "outputs": [
    {
     "name": "stdout",
     "output_type": "stream",
     "text": [
      "220.36\n"
     ]
    }
   ],
   "source": [
    "f = 220.35531\n",
    "f = round(f, 2)\n",
    "\n",
    "print(f)"
   ]
  }
 ],
 "metadata": {
  "kernelspec": {
   "display_name": "Python 3",
   "language": "python",
   "name": "python3"
  },
  "language_info": {
   "codemirror_mode": {
    "name": "ipython",
    "version": 3
   },
   "file_extension": ".py",
   "mimetype": "text/x-python",
   "name": "python",
   "nbconvert_exporter": "python",
   "pygments_lexer": "ipython3",
   "version": "3.8.8"
  }
 },
 "nbformat": 4,
 "nbformat_minor": 5
}
