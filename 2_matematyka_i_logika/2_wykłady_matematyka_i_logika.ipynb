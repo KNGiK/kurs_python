{
 "cells": [
  {
   "cell_type": "markdown",
   "id": "45f546cd",
   "metadata": {},
   "source": [
    "# Operatory matematyczne\n",
    "Komputery, a co za tym idzie języki programowania, które pozwalają nam się porozumiewać z maszynami zostały w głównej mierze stworzone do wykonywania duuużych operacji matematycznych ➕➖🧨 .\n",
    "\n",
    "Nie tylko mamy możliwość na wykonywanie trudnych matematycznych działań, ale również są one przetwarzane zdecydowanie szybciej niż robimy to my. Komputerowi należy podać konkretne wyrażenie lub działanie, które chcemy obliczyć i dostaniemy odpowiedź. Możliwe jest także operowanie na zmiennych, które mogą służyć jako wyrażenia algebraiczne. Jednak to wszystko wyjdzie w praniu 😎\n",
    "\n",
    "Omawiamy przez nas Python posiada odpowiednie operatory, które pozwolą nam na wykonywanie magicznych działań i uzyskać prawidłowe wyniki. No chyba, że będziemy dzielić przez 0 😜"
   ]
  },
  {
   "cell_type": "markdown",
   "id": "6b6dae27",
   "metadata": {},
   "source": [
    "# Przykłady operatorów matematycznych\n",
    "## +    -   *    /"
   ]
  },
  {
   "cell_type": "code",
   "execution_count": 1,
   "id": "8ebe80c8",
   "metadata": {},
   "outputs": [
    {
     "name": "stdout",
     "output_type": "stream",
     "text": [
      "9\n",
      "5\n",
      "400\n"
     ]
    }
   ],
   "source": [
    "print(4 + 5)\n",
    "print(10 - 5)\n",
    "print(100 * 4)"
   ]
  },
  {
   "cell_type": "markdown",
   "id": "af66314c",
   "metadata": {},
   "source": [
    "Wszystko się zgadza, teraz zwiększmy troche poziom trudności. Niech Python się wykaże! 😁"
   ]
  },
  {
   "cell_type": "code",
   "execution_count": 2,
   "id": "738033ae",
   "metadata": {},
   "outputs": [
    {
     "name": "stdout",
     "output_type": "stream",
     "text": [
      "26\n",
      "2\n",
      "35\n"
     ]
    }
   ],
   "source": [
    "print(10 + 20 + 3 - 7)\n",
    "print(-3 + 4 - 4 + 5)\n",
    "print(10 * 4 - 5)"
   ]
  },
  {
   "cell_type": "markdown",
   "id": "839ef589",
   "metadata": {},
   "source": [
    "I znowu wszystko się zgadza, jak widac powyżej Python radzi sobie z kolejnością wykonywania działań (możemy pominąć nawiasy, jednak nie zawsze się to sprawdzi!!!) czyli możemy śmiało mu zaufać 😍"
   ]
  },
  {
   "cell_type": "code",
   "execution_count": 3,
   "id": "6fdb3665",
   "metadata": {},
   "outputs": [
    {
     "name": "stdout",
     "output_type": "stream",
     "text": [
      "2.5\n",
      "5.0\n",
      "100.0453808752026\n"
     ]
    }
   ],
   "source": [
    "print(5 / 2)\n",
    "print(25 / 5)\n",
    "print(123456 / 1234)"
   ]
  },
  {
   "cell_type": "markdown",
   "id": "16c43ac1",
   "metadata": {},
   "source": [
    " Użycie operatora dzielnia w Pythonie zwraca liczbę dziesiętną (FLOAT), nawet jeśli otrzymana wartość jest całkowita.\n",
    "A teraz spróbujmy popsuć Pythona 😂"
   ]
  },
  {
   "cell_type": "code",
   "execution_count": 5,
   "id": "a1fd480d",
   "metadata": {},
   "outputs": [
    {
     "ename": "ZeroDivisionError",
     "evalue": "division by zero",
     "output_type": "error",
     "traceback": [
      "\u001b[1;31m---------------------------------------------------------------------------\u001b[0m",
      "\u001b[1;31mZeroDivisionError\u001b[0m                         Traceback (most recent call last)",
      "\u001b[1;32m<ipython-input-5-65966e0a195f>\u001b[0m in \u001b[0;36m<module>\u001b[1;34m\u001b[0m\n\u001b[1;32m----> 1\u001b[1;33m \u001b[0mprint\u001b[0m\u001b[1;33m(\u001b[0m\u001b[1;36m10\u001b[0m \u001b[1;33m/\u001b[0m \u001b[1;36m0\u001b[0m\u001b[1;33m)\u001b[0m\u001b[1;33m\u001b[0m\u001b[1;33m\u001b[0m\u001b[0m\n\u001b[0m",
      "\u001b[1;31mZeroDivisionError\u001b[0m: division by zero"
     ]
    }
   ],
   "source": [
    "print(10 / 0)"
   ]
  },
  {
   "cell_type": "markdown",
   "id": "ae98e09e",
   "metadata": {},
   "source": [
    "No i mamy błąd! Python zabrania nam dzielenia przez 0, czyli wciąż zachowane są wszystkie założenia praw matematycznych!"
   ]
  },
  {
   "cell_type": "markdown",
   "id": "dad1dade",
   "metadata": {},
   "source": [
    "## //   **   %"
   ]
  },
  {
   "cell_type": "code",
   "execution_count": 1,
   "id": "c08aebaa",
   "metadata": {},
   "outputs": [
    {
     "name": "stdout",
     "output_type": "stream",
     "text": [
      "2\n",
      "5\n",
      "100\n"
     ]
    }
   ],
   "source": [
    "print(5 // 2)\n",
    "print(25 // 5)\n",
    "print(123456 // 1234)"
   ]
  },
  {
   "cell_type": "markdown",
   "id": "6bd41786",
   "metadata": {},
   "source": [
    "Czym różni się <b>/</b> od <b>//</b> możemy zauważyć powyżej porównująć takie same działania.\n",
    "\n",
    "Pojedyczny znak dzielenia zwraca nam wynik jako liczbę dziesiętną <p style=\"display:inline; color:green\">float()</p>.\n",
    "\n",
    "Natomiast, dzięki podwójnemu znakowi dzielenia otrzymujemy wynik jako liczbę całkowitą <p style=\"color:green; display:inline;\">int()</p> zaokrągloną w dół.\n",
    "Czyli de facto dostajemy liczbę przed separatorem dziesiętnym 'kropeczką' albo 'przecinkiem' 😊"
   ]
  },
  {
   "cell_type": "code",
   "execution_count": 3,
   "id": "337fb404",
   "metadata": {},
   "outputs": [
    {
     "name": "stdout",
     "output_type": "stream",
     "text": [
      "4\n",
      "512\n",
      "729\n"
     ]
    }
   ],
   "source": [
    "print(2 ** 2)\n",
    "print((4 * 2) ** 3)\n",
    "print((3 ** 3) ** 2)"
   ]
  },
  {
   "cell_type": "markdown",
   "id": "57b26cea",
   "metadata": {},
   "source": [
    "Operator ** oznacza potęgowanie. \n",
    "\n",
    "Liczba przed operatorem to podstawa potęgi, a liczba po to potęga.\n",
    "W tym przypadku musimy uważać na kolejność wykonywania działań i tutaj często należy zastosować nawiasy. Jak będą wyglądać powyższe wyniki bez ich zastosowania? 🤔"
   ]
  },
  {
   "cell_type": "code",
   "execution_count": 4,
   "id": "60d563ee",
   "metadata": {},
   "outputs": [
    {
     "name": "stdout",
     "output_type": "stream",
     "text": [
      "4\n",
      "32\n",
      "19683\n"
     ]
    }
   ],
   "source": [
    "print(2 ** 2)\n",
    "print(4 * 2 ** 3)\n",
    "print(3 ** 3 ** 2)"
   ]
  },
  {
   "cell_type": "code",
   "execution_count": 5,
   "id": "24f74590",
   "metadata": {},
   "outputs": [
    {
     "name": "stdout",
     "output_type": "stream",
     "text": [
      "1\n",
      "7\n",
      "0\n"
     ]
    }
   ],
   "source": [
    "print(10 % 3)\n",
    "print(150 % 13)\n",
    "print(19759175175012 % 2)"
   ]
  },
  {
   "cell_type": "markdown",
   "id": "a8098420",
   "metadata": {},
   "source": [
    "Operator % oznacza modulo. Co oznacza? 🤷‍♀️ \n",
    "Tak modulo, jest to operator służący do wyznaczania reszty z dzielenia liczby x przez liczbę y.\n",
    "\n",
    "Możemy to również przedstawić w taki sposób x % y = reszta &#8594; y * mnożnik + reszta = x.\n",
    "\n",
    "Przykład: <p style=\"color:blue\">150 % 13 = 7 &#8594; 13 * mnożnik (11) + 7 = 150</p>\n",
    "\n",
    "Modulo z działania (x % y) jest zawsze liczbą całkowitą o wartości w przedziale <0, y - 1>.\n",
    "\n",
    "Ale tak właściwie po co nam to całe modulo?\n",
    "<ul>\n",
    "    <li> Po pierwsze do wyznaczania reszty z dzielenia. </li>\n",
    "    <li> Po drugie, co ważniejsze w zadaniach programistycznych do sprawdzania podzielności jednej liczby przez drugą, a co za tym idzie do sprawdzania parzystości liczby (czy jest podzielna przez 2) </li>\n",
    "</ul>"
   ]
  },
  {
   "cell_type": "code",
   "execution_count": 6,
   "id": "6bce7071",
   "metadata": {},
   "outputs": [
    {
     "name": "stdout",
     "output_type": "stream",
     "text": [
      "1\n",
      "1\n",
      "0\n",
      "0\n"
     ]
    }
   ],
   "source": [
    "print(5 % 2)\n",
    "print(133 % 2)\n",
    "print(154 % 2)\n",
    "print(4 % 2)"
   ]
  },
  {
   "cell_type": "markdown",
   "id": "986166e9",
   "metadata": {},
   "source": [
    "Jeśli chcemy sprawdzić parzystość liczby x należy wyznaczyć modulo z liczby 2. Wynik otrzymanego działania daje nam odpowiedź.\n",
    "\n",
    "Wynik równy 1 oznacza nieparzystość liczby, natomiast równy 0 jej parzystość. 😍"
   ]
  },
  {
   "cell_type": "markdown",
   "id": "2947c22f",
   "metadata": {},
   "source": [
    "## Operatory przypisania"
   ]
  },
  {
   "cell_type": "markdown",
   "id": "c0c63acd",
   "metadata": {},
   "source": [
    "Każdy z wykorzystywanych powyżej operatorów matematycznych ma swojego odpowiednika w operatorach przypisania. Ale co to w ogóle jest?\n",
    "\n",
    "Operator przypisania służy do szybszego, optymalnego, przyjemniejszego dla oka przypisania jakieś wartości do zmiennej. Czyli znowu zmienne tak? \n",
    "\n",
    "Tak, zmienne są często wykorzystywane do wykonywania operacji matematycznych, a co za tym idzie w czasie ich tworzenia i ich manipulowania używane są operatory przypisania.\n",
    "\n",
    "Teraz kilka przykładów:"
   ]
  },
  {
   "cell_type": "code",
   "execution_count": 8,
   "id": "b2686386",
   "metadata": {},
   "outputs": [],
   "source": [
    "zmienna = 150"
   ]
  },
  {
   "cell_type": "markdown",
   "id": "ff057523",
   "metadata": {},
   "source": [
    "No i już wykorzytaliśmy jeden z nich czyli '='\n",
    "\n",
    "Jest to operator przypisania określonej wartości do zmiennej."
   ]
  },
  {
   "cell_type": "code",
   "execution_count": null,
   "id": "fe4f6b9c",
   "metadata": {},
   "outputs": [],
   "source": [
    "zmienna = zmienna + 1"
   ]
  },
  {
   "cell_type": "markdown",
   "id": "fa670331",
   "metadata": {},
   "source": [
    "Co jeśli chcemy zwiększyć wartość zmiennej o jeden (inkrementować, trudne słowo ale często używane w świecie programowania)? Możemy to zrobić jak powyżej, albooooo...."
   ]
  },
  {
   "cell_type": "code",
   "execution_count": 10,
   "id": "13a80fd4",
   "metadata": {},
   "outputs": [
    {
     "name": "stdout",
     "output_type": "stream",
     "text": [
      "151\n"
     ]
    }
   ],
   "source": [
    "zmienna += 1\n",
    "print(zmienna)"
   ]
  },
  {
   "cell_type": "markdown",
   "id": "f83a31a5",
   "metadata": {},
   "source": [
    "No i mamy czytelny i spójny kod z wykorzystaniem operatora przypisania +=, tj. do zmiennej po lewej stronie dodaj 1 (czy cokolwiek innego) i taką zmienną teraz przechowuj 🎁"
   ]
  },
  {
   "cell_type": "code",
   "execution_count": 11,
   "id": "3e53df6e",
   "metadata": {},
   "outputs": [],
   "source": [
    "zmienna -= 5\n",
    "zmienna *= 10\n",
    "zmienna //= 5\n",
    "zmienna **= 2"
   ]
  },
  {
   "cell_type": "code",
   "execution_count": 12,
   "id": "ed4a3a25",
   "metadata": {},
   "outputs": [
    {
     "name": "stdout",
     "output_type": "stream",
     "text": [
      "85264\n"
     ]
    }
   ],
   "source": [
    "print(zmienna)"
   ]
  },
  {
   "cell_type": "markdown",
   "id": "3c7fde3f",
   "metadata": {},
   "source": [
    "Każdy z powyższych linijek wykona działanie odpowiednie dla wskazanego operatora, a następnie zmieni przechowywaną wartość zmiennej. \n",
    "\n",
    "Zatem w kolejnej linijce zmienna będzie wyglądać inaczej 😊"
   ]
  },
  {
   "cell_type": "markdown",
   "id": "d181465d",
   "metadata": {},
   "source": [
    "## Operatory porównania"
   ]
  },
  {
   "cell_type": "markdown",
   "id": "48752aeb",
   "metadata": {},
   "source": [
    "## Logika"
   ]
  },
  {
   "cell_type": "markdown",
   "id": "b774274a",
   "metadata": {},
   "source": [
    "## Operatory logiczne"
   ]
  },
  {
   "cell_type": "markdown",
   "id": "1b13c212",
   "metadata": {},
   "source": [
    "##  Wyrażenia: IF ELSE ELIF"
   ]
  },
  {
   "cell_type": "code",
   "execution_count": null,
   "id": "8ba44de3",
   "metadata": {},
   "outputs": [],
   "source": []
  }
 ],
 "metadata": {
  "kernelspec": {
   "display_name": "Python 3",
   "language": "python",
   "name": "python3"
  },
  "language_info": {
   "codemirror_mode": {
    "name": "ipython",
    "version": 3
   },
   "file_extension": ".py",
   "mimetype": "text/x-python",
   "name": "python",
   "nbconvert_exporter": "python",
   "pygments_lexer": "ipython3",
   "version": "3.8.8"
  }
 },
 "nbformat": 4,
 "nbformat_minor": 5
}
